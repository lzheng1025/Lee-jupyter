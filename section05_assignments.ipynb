{
 "cells": [
  {
   "cell_type": "markdown",
   "metadata": {},
   "source": [
    "# Assignments: Cleaning Data"
   ]
  },
  {
   "cell_type": "markdown",
   "metadata": {},
   "source": [
    "## 1. Data in Python Request"
   ]
  },
  {
   "cell_type": "markdown",
   "metadata": {},
   "source": [
    "* Read in data from the Excel spreadsheet (Alarm Survey Data.xlsx) and put into a Pandas DataFrame\n",
    "* Check the data type of each column\n",
    "* Convert object columns into numeric or datetime columns, as needed"
   ]
  },
  {
   "cell_type": "code",
   "execution_count": 1,
   "metadata": {},
   "outputs": [],
   "source": [
    "import pandas as pd \n",
    "df=pd.read_excel(r\"C:\\Users\\lzhen\\Downloads\\Data+Science+in+Python+-+Data+Prep+&+EDA\\Data\\Alarm Survey Data.xlsx\")"
   ]
  },
  {
   "cell_type": "code",
   "execution_count": 2,
   "metadata": {},
   "outputs": [
    {
     "name": "stdout",
     "output_type": "stream",
     "text": [
      "<class 'pandas.core.frame.DataFrame'>\n",
      "RangeIndex: 6433 entries, 0 to 6432\n",
      "Data columns (total 7 columns):\n",
      " #   Column              Non-Null Count  Dtype  \n",
      "---  ------              --------------  -----  \n",
      " 0   survey_id           6433 non-null   int64  \n",
      " 1   age                 6433 non-null   int64  \n",
      " 2   number_of_children  6433 non-null   float64\n",
      " 3   activity_level      6433 non-null   object \n",
      " 4   sleep_quality       6082 non-null   float64\n",
      " 5   number_of_snoozes   6433 non-null   int64  \n",
      " 6   alarm_rating        6433 non-null   object \n",
      "dtypes: float64(2), int64(3), object(2)\n",
      "memory usage: 351.9+ KB\n"
     ]
    }
   ],
   "source": [
    "df.info()"
   ]
  },
  {
   "cell_type": "code",
   "execution_count": null,
   "metadata": {},
   "outputs": [
    {
     "data": {
      "text/plain": [
       "0       5\n",
       "1       3\n",
       "2       1\n",
       "3       4\n",
       "4       3\n",
       "       ..\n",
       "6428    5\n",
       "6429    4\n",
       "6430    3\n",
       "6431    3\n",
       "6432    1\n",
       "Name: alarm_rating, Length: 6433, dtype: int64"
      ]
     },
     "execution_count": 3,
     "metadata": {},
     "output_type": "execute_result"
    }
   ],
   "source": [
    "df['number_of_children']=df['number_of_children'].astype('int')\n",
    "\n",
    "df.alarm_rating=pd.to_numeric(df.alarm_rating.str.replace('stars',''))\n",
    "df.alarm_rating"
   ]
  },
  {
   "cell_type": "markdown",
   "metadata": {},
   "source": [
    "## 2. Missing Data Check"
   ]
  },
  {
   "cell_type": "markdown",
   "metadata": {},
   "source": [
    "* Find any missing data\n",
    "* Deal with the missing data"
   ]
  },
  {
   "cell_type": "code",
   "execution_count": 4,
   "metadata": {},
   "outputs": [
    {
     "name": "stdout",
     "output_type": "stream",
     "text": [
      "<class 'pandas.core.frame.DataFrame'>\n",
      "RangeIndex: 6433 entries, 0 to 6432\n",
      "Data columns (total 7 columns):\n",
      " #   Column              Non-Null Count  Dtype  \n",
      "---  ------              --------------  -----  \n",
      " 0   survey_id           6433 non-null   int64  \n",
      " 1   age                 6433 non-null   int64  \n",
      " 2   number_of_children  6433 non-null   int64  \n",
      " 3   activity_level      6433 non-null   object \n",
      " 4   sleep_quality       6082 non-null   float64\n",
      " 5   number_of_snoozes   6433 non-null   int64  \n",
      " 6   alarm_rating        6433 non-null   int64  \n",
      "dtypes: float64(1), int64(5), object(1)\n",
      "memory usage: 351.9+ KB\n"
     ]
    }
   ],
   "source": [
    "df.info()"
   ]
  },
  {
   "cell_type": "code",
   "execution_count": null,
   "metadata": {},
   "outputs": [
    {
     "data": {
      "text/plain": [
       "sleep_quality\n",
       "5.0    2721\n",
       "4.0    2261\n",
       "3.0     997\n",
       "NaN     351\n",
       "1.0     103\n",
       "Name: count, dtype: int64"
      ]
     },
     "execution_count": 5,
     "metadata": {},
     "output_type": "execute_result"
    }
   ],
   "source": [
    "df[df.isna().any(axis=1)] #returns 1 (True) if any cell has Nan in the row\n",
    "df.sleep_quality.value_counts(dropna=False)\n",
    "#df_clean = df[~df.isna().any(axis=1)] Will remove any row that has Nan data"
   ]
  },
  {
   "cell_type": "code",
   "execution_count": 6,
   "metadata": {},
   "outputs": [
    {
     "data": {
      "text/plain": [
       "sleep_quality\n",
       "5.0    2721\n",
       "4.0    2261\n",
       "3.0     997\n",
       "2.0     351\n",
       "1.0     103\n",
       "Name: count, dtype: int64"
      ]
     },
     "execution_count": 6,
     "metadata": {},
     "output_type": "execute_result"
    }
   ],
   "source": [
    "df['sleep_quality']=df.sleep_quality.fillna(2)\n",
    "#df.sleep_quality.fillna(2,inplace=True)\n",
    "df.sleep_quality.value_counts(dropna=False)"
   ]
  },
  {
   "cell_type": "code",
   "execution_count": 7,
   "metadata": {},
   "outputs": [
    {
     "name": "stdout",
     "output_type": "stream",
     "text": [
      "<class 'pandas.core.frame.DataFrame'>\n",
      "RangeIndex: 6433 entries, 0 to 6432\n",
      "Data columns (total 7 columns):\n",
      " #   Column              Non-Null Count  Dtype  \n",
      "---  ------              --------------  -----  \n",
      " 0   survey_id           6433 non-null   int64  \n",
      " 1   age                 6433 non-null   int64  \n",
      " 2   number_of_children  6433 non-null   int64  \n",
      " 3   activity_level      6433 non-null   object \n",
      " 4   sleep_quality       6433 non-null   float64\n",
      " 5   number_of_snoozes   6433 non-null   int64  \n",
      " 6   alarm_rating        6433 non-null   int64  \n",
      "dtypes: float64(1), int64(5), object(1)\n",
      "memory usage: 351.9+ KB\n"
     ]
    }
   ],
   "source": [
    "df.info()"
   ]
  },
  {
   "cell_type": "markdown",
   "metadata": {},
   "source": [
    "## 3. Inconsistent Text & Typos Check"
   ]
  },
  {
   "cell_type": "markdown",
   "metadata": {},
   "source": [
    "* Find any inconsistent text and typos\n",
    "* Deal with the inconsistent text and typos"
   ]
  },
  {
   "cell_type": "code",
   "execution_count": 8,
   "metadata": {},
   "outputs": [
    {
     "data": {
      "text/plain": [
       "0               active\n",
       "1       lightly active\n",
       "2       lightly active\n",
       "3               active\n",
       "4       lightly active\n",
       "             ...      \n",
       "6428            active\n",
       "6429    lightly active\n",
       "6430    lightly active\n",
       "6431            active\n",
       "6432    lightly active\n",
       "Name: activity_level, Length: 6433, dtype: object"
      ]
     },
     "execution_count": 8,
     "metadata": {},
     "output_type": "execute_result"
    }
   ],
   "source": [
    "import numpy as np \n",
    "df.activity_level=np.where(df['activity_level'].isin (['light_activity','light']),'lightly active',df.activity_level)\n",
    "df['activity_level']"
   ]
  },
  {
   "cell_type": "code",
   "execution_count": null,
   "metadata": {},
   "outputs": [],
   "source": []
  },
  {
   "cell_type": "code",
   "execution_count": null,
   "metadata": {},
   "outputs": [],
   "source": []
  },
  {
   "cell_type": "markdown",
   "metadata": {},
   "source": [
    "## 4. Duplicate Data Check"
   ]
  },
  {
   "cell_type": "markdown",
   "metadata": {},
   "source": [
    "* Find any duplicate data\n",
    "* Deal with the duplicate data"
   ]
  },
  {
   "cell_type": "code",
   "execution_count": 9,
   "metadata": {},
   "outputs": [
    {
     "data": {
      "text/html": [
       "<div>\n",
       "<style scoped>\n",
       "    .dataframe tbody tr th:only-of-type {\n",
       "        vertical-align: middle;\n",
       "    }\n",
       "\n",
       "    .dataframe tbody tr th {\n",
       "        vertical-align: top;\n",
       "    }\n",
       "\n",
       "    .dataframe thead th {\n",
       "        text-align: right;\n",
       "    }\n",
       "</style>\n",
       "<table border=\"1\" class=\"dataframe\">\n",
       "  <thead>\n",
       "    <tr style=\"text-align: right;\">\n",
       "      <th></th>\n",
       "      <th>survey_id</th>\n",
       "      <th>age</th>\n",
       "      <th>number_of_children</th>\n",
       "      <th>activity_level</th>\n",
       "      <th>sleep_quality</th>\n",
       "      <th>number_of_snoozes</th>\n",
       "      <th>alarm_rating</th>\n",
       "    </tr>\n",
       "  </thead>\n",
       "  <tbody>\n",
       "    <tr>\n",
       "      <th>0</th>\n",
       "      <td>1</td>\n",
       "      <td>34</td>\n",
       "      <td>3</td>\n",
       "      <td>active</td>\n",
       "      <td>3.0</td>\n",
       "      <td>1</td>\n",
       "      <td>5</td>\n",
       "    </tr>\n",
       "    <tr>\n",
       "      <th>1</th>\n",
       "      <td>2</td>\n",
       "      <td>31</td>\n",
       "      <td>3</td>\n",
       "      <td>lightly active</td>\n",
       "      <td>3.0</td>\n",
       "      <td>3</td>\n",
       "      <td>3</td>\n",
       "    </tr>\n",
       "    <tr>\n",
       "      <th>2</th>\n",
       "      <td>3</td>\n",
       "      <td>18</td>\n",
       "      <td>0</td>\n",
       "      <td>lightly active</td>\n",
       "      <td>4.0</td>\n",
       "      <td>1</td>\n",
       "      <td>1</td>\n",
       "    </tr>\n",
       "    <tr>\n",
       "      <th>3</th>\n",
       "      <td>4</td>\n",
       "      <td>42</td>\n",
       "      <td>4</td>\n",
       "      <td>active</td>\n",
       "      <td>4.0</td>\n",
       "      <td>1</td>\n",
       "      <td>4</td>\n",
       "    </tr>\n",
       "    <tr>\n",
       "      <th>4</th>\n",
       "      <td>5</td>\n",
       "      <td>30</td>\n",
       "      <td>1</td>\n",
       "      <td>lightly active</td>\n",
       "      <td>1.0</td>\n",
       "      <td>4</td>\n",
       "      <td>3</td>\n",
       "    </tr>\n",
       "    <tr>\n",
       "      <th>...</th>\n",
       "      <td>...</td>\n",
       "      <td>...</td>\n",
       "      <td>...</td>\n",
       "      <td>...</td>\n",
       "      <td>...</td>\n",
       "      <td>...</td>\n",
       "      <td>...</td>\n",
       "    </tr>\n",
       "    <tr>\n",
       "      <th>6361</th>\n",
       "      <td>6362</td>\n",
       "      <td>27</td>\n",
       "      <td>2</td>\n",
       "      <td>active</td>\n",
       "      <td>5.0</td>\n",
       "      <td>0</td>\n",
       "      <td>5</td>\n",
       "    </tr>\n",
       "    <tr>\n",
       "      <th>6362</th>\n",
       "      <td>6363</td>\n",
       "      <td>31</td>\n",
       "      <td>1</td>\n",
       "      <td>lightly active</td>\n",
       "      <td>4.0</td>\n",
       "      <td>0</td>\n",
       "      <td>4</td>\n",
       "    </tr>\n",
       "    <tr>\n",
       "      <th>6363</th>\n",
       "      <td>6364</td>\n",
       "      <td>26</td>\n",
       "      <td>0</td>\n",
       "      <td>lightly active</td>\n",
       "      <td>5.0</td>\n",
       "      <td>0</td>\n",
       "      <td>3</td>\n",
       "    </tr>\n",
       "    <tr>\n",
       "      <th>6364</th>\n",
       "      <td>6365</td>\n",
       "      <td>27</td>\n",
       "      <td>1</td>\n",
       "      <td>active</td>\n",
       "      <td>5.0</td>\n",
       "      <td>0</td>\n",
       "      <td>3</td>\n",
       "    </tr>\n",
       "    <tr>\n",
       "      <th>6365</th>\n",
       "      <td>6366</td>\n",
       "      <td>18</td>\n",
       "      <td>0</td>\n",
       "      <td>lightly active</td>\n",
       "      <td>4.0</td>\n",
       "      <td>0</td>\n",
       "      <td>1</td>\n",
       "    </tr>\n",
       "  </tbody>\n",
       "</table>\n",
       "<p>6366 rows × 7 columns</p>\n",
       "</div>"
      ],
      "text/plain": [
       "      survey_id  age  number_of_children  activity_level  sleep_quality  \\\n",
       "0             1   34                   3          active            3.0   \n",
       "1             2   31                   3  lightly active            3.0   \n",
       "2             3   18                   0  lightly active            4.0   \n",
       "3             4   42                   4          active            4.0   \n",
       "4             5   30                   1  lightly active            1.0   \n",
       "...         ...  ...                 ...             ...            ...   \n",
       "6361       6362   27                   2          active            5.0   \n",
       "6362       6363   31                   1  lightly active            4.0   \n",
       "6363       6364   26                   0  lightly active            5.0   \n",
       "6364       6365   27                   1          active            5.0   \n",
       "6365       6366   18                   0  lightly active            4.0   \n",
       "\n",
       "      number_of_snoozes  alarm_rating  \n",
       "0                     1             5  \n",
       "1                     3             3  \n",
       "2                     1             1  \n",
       "3                     1             4  \n",
       "4                     4             3  \n",
       "...                 ...           ...  \n",
       "6361                  0             5  \n",
       "6362                  0             4  \n",
       "6363                  0             3  \n",
       "6364                  0             3  \n",
       "6365                  0             1  \n",
       "\n",
       "[6366 rows x 7 columns]"
      ]
     },
     "execution_count": 9,
     "metadata": {},
     "output_type": "execute_result"
    }
   ],
   "source": [
    "df=df.drop_duplicates().reset_index(drop=True)\n",
    "df"
   ]
  },
  {
   "cell_type": "code",
   "execution_count": null,
   "metadata": {},
   "outputs": [],
   "source": []
  },
  {
   "cell_type": "code",
   "execution_count": null,
   "metadata": {},
   "outputs": [],
   "source": []
  },
  {
   "cell_type": "markdown",
   "metadata": {},
   "source": [
    "## 5. Outliers Check"
   ]
  },
  {
   "cell_type": "markdown",
   "metadata": {},
   "source": [
    "* Find any outliers\n",
    "* Deal with the outliers"
   ]
  },
  {
   "cell_type": "code",
   "execution_count": 20,
   "metadata": {},
   "outputs": [
    {
     "data": {
      "text/plain": [
       "count    6366.000000\n",
       "mean        1.157870\n",
       "std         1.603528\n",
       "min         0.000000\n",
       "25%         0.000000\n",
       "50%         0.000000\n",
       "75%         2.000000\n",
       "max        19.000000\n",
       "Name: number_of_snoozes, dtype: float64"
      ]
     },
     "execution_count": 20,
     "metadata": {},
     "output_type": "execute_result"
    }
   ],
   "source": [
    "df[df.isna().any(axis=1)]\n",
    "df.number_of_snoozes.describe()"
   ]
  },
  {
   "cell_type": "code",
   "execution_count": 26,
   "metadata": {},
   "outputs": [
    {
     "data": {
      "text/plain": [
       "count    6366.000000\n",
       "mean        1.156456\n",
       "std         1.591719\n",
       "min         0.000000\n",
       "25%         0.000000\n",
       "50%         0.000000\n",
       "75%         2.000000\n",
       "max        10.000000\n",
       "Name: number_of_snoozes, dtype: float64"
      ]
     },
     "execution_count": 26,
     "metadata": {},
     "output_type": "execute_result"
    }
   ],
   "source": [
    "import numpy as np \n",
    "df.number_of_snoozes.max()\n",
    "df.number_of_snoozes=np.where(df.number_of_snoozes>=19,10,df.number_of_snoozes )\n",
    "df.number_of_snoozes.describe()"
   ]
  },
  {
   "cell_type": "markdown",
   "metadata": {},
   "source": [
    "## 6. Data Issues Check"
   ]
  },
  {
   "cell_type": "markdown",
   "metadata": {},
   "source": [
    "* Quickly explore the updated DataFrame. How do things look now after handling the data issues compared to the original DataFrame?"
   ]
  },
  {
   "cell_type": "code",
   "execution_count": 28,
   "metadata": {},
   "outputs": [
    {
     "data": {
      "text/html": [
       "<div>\n",
       "<style scoped>\n",
       "    .dataframe tbody tr th:only-of-type {\n",
       "        vertical-align: middle;\n",
       "    }\n",
       "\n",
       "    .dataframe tbody tr th {\n",
       "        vertical-align: top;\n",
       "    }\n",
       "\n",
       "    .dataframe thead th {\n",
       "        text-align: right;\n",
       "    }\n",
       "</style>\n",
       "<table border=\"1\" class=\"dataframe\">\n",
       "  <thead>\n",
       "    <tr style=\"text-align: right;\">\n",
       "      <th></th>\n",
       "      <th>survey_id</th>\n",
       "      <th>age</th>\n",
       "      <th>number_of_children</th>\n",
       "      <th>activity_level</th>\n",
       "      <th>sleep_quality</th>\n",
       "      <th>number_of_snoozes</th>\n",
       "      <th>alarm_rating</th>\n",
       "    </tr>\n",
       "  </thead>\n",
       "  <tbody>\n",
       "  </tbody>\n",
       "</table>\n",
       "</div>"
      ],
      "text/plain": [
       "Empty DataFrame\n",
       "Columns: [survey_id, age, number_of_children, activity_level, sleep_quality, number_of_snoozes, alarm_rating]\n",
       "Index: []"
      ]
     },
     "execution_count": 28,
     "metadata": {},
     "output_type": "execute_result"
    }
   ],
   "source": [
    "#missing data?\n",
    "df[df.isna().any(axis=1)]"
   ]
  },
  {
   "cell_type": "code",
   "execution_count": 29,
   "metadata": {},
   "outputs": [
    {
     "data": {
      "text/plain": [
       "activity_level\n",
       "lightly active    3288\n",
       "active            2422\n",
       "very active        656\n",
       "Name: count, dtype: int64"
      ]
     },
     "execution_count": 29,
     "metadata": {},
     "output_type": "execute_result"
    }
   ],
   "source": [
    "#check data inconsistency\n",
    "df.activity_level.value_counts()"
   ]
  },
  {
   "cell_type": "code",
   "execution_count": 31,
   "metadata": {},
   "outputs": [
    {
     "data": {
      "text/html": [
       "<div>\n",
       "<style scoped>\n",
       "    .dataframe tbody tr th:only-of-type {\n",
       "        vertical-align: middle;\n",
       "    }\n",
       "\n",
       "    .dataframe tbody tr th {\n",
       "        vertical-align: top;\n",
       "    }\n",
       "\n",
       "    .dataframe thead th {\n",
       "        text-align: right;\n",
       "    }\n",
       "</style>\n",
       "<table border=\"1\" class=\"dataframe\">\n",
       "  <thead>\n",
       "    <tr style=\"text-align: right;\">\n",
       "      <th></th>\n",
       "      <th>survey_id</th>\n",
       "      <th>age</th>\n",
       "      <th>number_of_children</th>\n",
       "      <th>activity_level</th>\n",
       "      <th>sleep_quality</th>\n",
       "      <th>number_of_snoozes</th>\n",
       "      <th>alarm_rating</th>\n",
       "    </tr>\n",
       "  </thead>\n",
       "  <tbody>\n",
       "  </tbody>\n",
       "</table>\n",
       "</div>"
      ],
      "text/plain": [
       "Empty DataFrame\n",
       "Columns: [survey_id, age, number_of_children, activity_level, sleep_quality, number_of_snoozes, alarm_rating]\n",
       "Index: []"
      ]
     },
     "execution_count": 31,
     "metadata": {},
     "output_type": "execute_result"
    }
   ],
   "source": [
    "#check duplicate value\n",
    "df[df.duplicated()]"
   ]
  },
  {
   "cell_type": "code",
   "execution_count": 32,
   "metadata": {},
   "outputs": [
    {
     "data": {
      "text/html": [
       "<div>\n",
       "<style scoped>\n",
       "    .dataframe tbody tr th:only-of-type {\n",
       "        vertical-align: middle;\n",
       "    }\n",
       "\n",
       "    .dataframe tbody tr th {\n",
       "        vertical-align: top;\n",
       "    }\n",
       "\n",
       "    .dataframe thead th {\n",
       "        text-align: right;\n",
       "    }\n",
       "</style>\n",
       "<table border=\"1\" class=\"dataframe\">\n",
       "  <thead>\n",
       "    <tr style=\"text-align: right;\">\n",
       "      <th></th>\n",
       "      <th>survey_id</th>\n",
       "      <th>age</th>\n",
       "      <th>number_of_children</th>\n",
       "      <th>sleep_quality</th>\n",
       "      <th>number_of_snoozes</th>\n",
       "      <th>alarm_rating</th>\n",
       "    </tr>\n",
       "  </thead>\n",
       "  <tbody>\n",
       "    <tr>\n",
       "      <th>count</th>\n",
       "      <td>6366.000000</td>\n",
       "      <td>6366.000000</td>\n",
       "      <td>6366.000000</td>\n",
       "      <td>6366.000000</td>\n",
       "      <td>6366.000000</td>\n",
       "      <td>6366.000000</td>\n",
       "    </tr>\n",
       "    <tr>\n",
       "      <th>mean</th>\n",
       "      <td>3183.500000</td>\n",
       "      <td>29.075243</td>\n",
       "      <td>1.380930</td>\n",
       "      <td>4.107760</td>\n",
       "      <td>1.156456</td>\n",
       "      <td>2.955231</td>\n",
       "    </tr>\n",
       "    <tr>\n",
       "      <th>std</th>\n",
       "      <td>1837.850239</td>\n",
       "      <td>7.476856</td>\n",
       "      <td>1.389855</td>\n",
       "      <td>0.963601</td>\n",
       "      <td>1.591719</td>\n",
       "      <td>1.100328</td>\n",
       "    </tr>\n",
       "    <tr>\n",
       "      <th>min</th>\n",
       "      <td>1.000000</td>\n",
       "      <td>13.000000</td>\n",
       "      <td>0.000000</td>\n",
       "      <td>1.000000</td>\n",
       "      <td>0.000000</td>\n",
       "      <td>1.000000</td>\n",
       "    </tr>\n",
       "    <tr>\n",
       "      <th>25%</th>\n",
       "      <td>1592.250000</td>\n",
       "      <td>23.000000</td>\n",
       "      <td>0.000000</td>\n",
       "      <td>4.000000</td>\n",
       "      <td>0.000000</td>\n",
       "      <td>2.000000</td>\n",
       "    </tr>\n",
       "    <tr>\n",
       "      <th>50%</th>\n",
       "      <td>3183.500000</td>\n",
       "      <td>28.000000</td>\n",
       "      <td>1.000000</td>\n",
       "      <td>4.000000</td>\n",
       "      <td>0.000000</td>\n",
       "      <td>3.000000</td>\n",
       "    </tr>\n",
       "    <tr>\n",
       "      <th>75%</th>\n",
       "      <td>4774.750000</td>\n",
       "      <td>34.000000</td>\n",
       "      <td>2.000000</td>\n",
       "      <td>5.000000</td>\n",
       "      <td>2.000000</td>\n",
       "      <td>4.000000</td>\n",
       "    </tr>\n",
       "    <tr>\n",
       "      <th>max</th>\n",
       "      <td>6366.000000</td>\n",
       "      <td>47.000000</td>\n",
       "      <td>5.000000</td>\n",
       "      <td>5.000000</td>\n",
       "      <td>10.000000</td>\n",
       "      <td>5.000000</td>\n",
       "    </tr>\n",
       "  </tbody>\n",
       "</table>\n",
       "</div>"
      ],
      "text/plain": [
       "         survey_id          age  number_of_children  sleep_quality  \\\n",
       "count  6366.000000  6366.000000         6366.000000    6366.000000   \n",
       "mean   3183.500000    29.075243            1.380930       4.107760   \n",
       "std    1837.850239     7.476856            1.389855       0.963601   \n",
       "min       1.000000    13.000000            0.000000       1.000000   \n",
       "25%    1592.250000    23.000000            0.000000       4.000000   \n",
       "50%    3183.500000    28.000000            1.000000       4.000000   \n",
       "75%    4774.750000    34.000000            2.000000       5.000000   \n",
       "max    6366.000000    47.000000            5.000000       5.000000   \n",
       "\n",
       "       number_of_snoozes  alarm_rating  \n",
       "count        6366.000000   6366.000000  \n",
       "mean            1.156456      2.955231  \n",
       "std             1.591719      1.100328  \n",
       "min             0.000000      1.000000  \n",
       "25%             0.000000      2.000000  \n",
       "50%             0.000000      3.000000  \n",
       "75%             2.000000      4.000000  \n",
       "max            10.000000      5.000000  "
      ]
     },
     "execution_count": 32,
     "metadata": {},
     "output_type": "execute_result"
    }
   ],
   "source": [
    "#check outliners\n",
    "df.describe()"
   ]
  },
  {
   "cell_type": "markdown",
   "metadata": {},
   "source": [
    "## 7. Create Columns From Numeric Data"
   ]
  },
  {
   "cell_type": "markdown",
   "metadata": {},
   "source": [
    "* Read data into Python\n",
    "* Check the data type of each column\n",
    "* Create a numeric column using arithmetic\n",
    "* Create a numeric column using conditional logic"
   ]
  },
  {
   "cell_type": "code",
   "execution_count": null,
   "metadata": {},
   "outputs": [],
   "source": [
    "# Create a “Total Spend” column that includes both the pen cost and shipping cost for each sale\n",
    "# Create a “Free Shipping” column that says yes if the sale included free shipping, and no otherwise"
   ]
  },
  {
   "cell_type": "code",
   "execution_count": 2,
   "metadata": {},
   "outputs": [
    {
     "data": {
      "text/html": [
       "<div>\n",
       "<style scoped>\n",
       "    .dataframe tbody tr th:only-of-type {\n",
       "        vertical-align: middle;\n",
       "    }\n",
       "\n",
       "    .dataframe tbody tr th {\n",
       "        vertical-align: top;\n",
       "    }\n",
       "\n",
       "    .dataframe thead th {\n",
       "        text-align: right;\n",
       "    }\n",
       "</style>\n",
       "<table border=\"1\" class=\"dataframe\">\n",
       "  <thead>\n",
       "    <tr style=\"text-align: right;\">\n",
       "      <th></th>\n",
       "      <th>Customer</th>\n",
       "      <th>Item</th>\n",
       "      <th>Pen Cost</th>\n",
       "      <th>Shipping Cost</th>\n",
       "      <th>Purchase Date</th>\n",
       "      <th>Delivery Date</th>\n",
       "      <th>Review</th>\n",
       "    </tr>\n",
       "  </thead>\n",
       "  <tbody>\n",
       "    <tr>\n",
       "      <th>0</th>\n",
       "      <td>5201</td>\n",
       "      <td>Ballpoint Pens</td>\n",
       "      <td>5.99</td>\n",
       "      <td>2.99</td>\n",
       "      <td>2023-05-01</td>\n",
       "      <td>2023-05-03</td>\n",
       "      <td>DoodleWithMe|I love the way this pen writes, b...</td>\n",
       "    </tr>\n",
       "    <tr>\n",
       "      <th>1</th>\n",
       "      <td>5202</td>\n",
       "      <td>Sharpies</td>\n",
       "      <td>12.99</td>\n",
       "      <td>0.00</td>\n",
       "      <td>2023-05-01</td>\n",
       "      <td>2023-05-04</td>\n",
       "      <td>ScribbleMaster|The classic Sharpie marker has ...</td>\n",
       "    </tr>\n",
       "    <tr>\n",
       "      <th>2</th>\n",
       "      <td>5203</td>\n",
       "      <td>Ballpoint Pens (Bold)</td>\n",
       "      <td>6.95</td>\n",
       "      <td>4.99</td>\n",
       "      <td>2023-05-01</td>\n",
       "      <td>2023-05-02</td>\n",
       "      <td>PenPalForever|The retractable ballpoint pen ha...</td>\n",
       "    </tr>\n",
       "    <tr>\n",
       "      <th>3</th>\n",
       "      <td>5204</td>\n",
       "      <td>Gel Pens</td>\n",
       "      <td>5.99</td>\n",
       "      <td>2.99</td>\n",
       "      <td>2023-05-01</td>\n",
       "      <td>2023-05-04</td>\n",
       "      <td>TheWriteWay|This gel pen has a comfortable gri...</td>\n",
       "    </tr>\n",
       "    <tr>\n",
       "      <th>4</th>\n",
       "      <td>5205</td>\n",
       "      <td>Rollerball Pens</td>\n",
       "      <td>12.99</td>\n",
       "      <td>1.99</td>\n",
       "      <td>2023-05-01</td>\n",
       "      <td>2023-05-03</td>\n",
       "      <td>PenAndPaperPerson|The rollerball pen has a smo...</td>\n",
       "    </tr>\n",
       "  </tbody>\n",
       "</table>\n",
       "</div>"
      ],
      "text/plain": [
       "   Customer                   Item  Pen Cost  Shipping Cost Purchase Date  \\\n",
       "0      5201         Ballpoint Pens      5.99           2.99    2023-05-01   \n",
       "1      5202               Sharpies     12.99           0.00    2023-05-01   \n",
       "2      5203  Ballpoint Pens (Bold)      6.95           4.99    2023-05-01   \n",
       "3      5204               Gel Pens      5.99           2.99    2023-05-01   \n",
       "4      5205        Rollerball Pens     12.99           1.99    2023-05-01   \n",
       "\n",
       "  Delivery Date                                             Review  \n",
       "0    2023-05-03  DoodleWithMe|I love the way this pen writes, b...  \n",
       "1    2023-05-04  ScribbleMaster|The classic Sharpie marker has ...  \n",
       "2    2023-05-02  PenPalForever|The retractable ballpoint pen ha...  \n",
       "3    2023-05-04  TheWriteWay|This gel pen has a comfortable gri...  \n",
       "4    2023-05-03  PenAndPaperPerson|The rollerball pen has a smo...  "
      ]
     },
     "execution_count": 2,
     "metadata": {},
     "output_type": "execute_result"
    }
   ],
   "source": [
    "import pandas as pd \n",
    "pens=pd.read_excel(r\"C:\\Users\\lzhen\\Downloads\\Data+Science+in+Python+-+Data+Prep+&+EDA\\Data\\Pen Sales Data.xlsx\")\n",
    "pens.head()"
   ]
  },
  {
   "cell_type": "code",
   "execution_count": 7,
   "metadata": {},
   "outputs": [
    {
     "data": {
      "text/html": [
       "<div>\n",
       "<style scoped>\n",
       "    .dataframe tbody tr th:only-of-type {\n",
       "        vertical-align: middle;\n",
       "    }\n",
       "\n",
       "    .dataframe tbody tr th {\n",
       "        vertical-align: top;\n",
       "    }\n",
       "\n",
       "    .dataframe thead th {\n",
       "        text-align: right;\n",
       "    }\n",
       "</style>\n",
       "<table border=\"1\" class=\"dataframe\">\n",
       "  <thead>\n",
       "    <tr style=\"text-align: right;\">\n",
       "      <th></th>\n",
       "      <th>Customer</th>\n",
       "      <th>Item</th>\n",
       "      <th>Pen Cost</th>\n",
       "      <th>Shipping Cost</th>\n",
       "      <th>Purchase Date</th>\n",
       "      <th>Delivery Date</th>\n",
       "      <th>Review</th>\n",
       "      <th>Total Spend</th>\n",
       "      <th>Free Shipping</th>\n",
       "    </tr>\n",
       "  </thead>\n",
       "  <tbody>\n",
       "    <tr>\n",
       "      <th>0</th>\n",
       "      <td>5201</td>\n",
       "      <td>Ballpoint Pens</td>\n",
       "      <td>5.99</td>\n",
       "      <td>2.99</td>\n",
       "      <td>2023-05-01</td>\n",
       "      <td>2023-05-03</td>\n",
       "      <td>DoodleWithMe|I love the way this pen writes, b...</td>\n",
       "      <td>8.98</td>\n",
       "      <td>No</td>\n",
       "    </tr>\n",
       "    <tr>\n",
       "      <th>1</th>\n",
       "      <td>5202</td>\n",
       "      <td>Sharpies</td>\n",
       "      <td>12.99</td>\n",
       "      <td>0.00</td>\n",
       "      <td>2023-05-01</td>\n",
       "      <td>2023-05-04</td>\n",
       "      <td>ScribbleMaster|The classic Sharpie marker has ...</td>\n",
       "      <td>12.99</td>\n",
       "      <td>Yes</td>\n",
       "    </tr>\n",
       "    <tr>\n",
       "      <th>2</th>\n",
       "      <td>5203</td>\n",
       "      <td>Ballpoint Pens (Bold)</td>\n",
       "      <td>6.95</td>\n",
       "      <td>4.99</td>\n",
       "      <td>2023-05-01</td>\n",
       "      <td>2023-05-02</td>\n",
       "      <td>PenPalForever|The retractable ballpoint pen ha...</td>\n",
       "      <td>11.94</td>\n",
       "      <td>No</td>\n",
       "    </tr>\n",
       "    <tr>\n",
       "      <th>3</th>\n",
       "      <td>5204</td>\n",
       "      <td>Gel Pens</td>\n",
       "      <td>5.99</td>\n",
       "      <td>2.99</td>\n",
       "      <td>2023-05-01</td>\n",
       "      <td>2023-05-04</td>\n",
       "      <td>TheWriteWay|This gel pen has a comfortable gri...</td>\n",
       "      <td>8.98</td>\n",
       "      <td>No</td>\n",
       "    </tr>\n",
       "    <tr>\n",
       "      <th>4</th>\n",
       "      <td>5205</td>\n",
       "      <td>Rollerball Pens</td>\n",
       "      <td>12.99</td>\n",
       "      <td>1.99</td>\n",
       "      <td>2023-05-01</td>\n",
       "      <td>2023-05-03</td>\n",
       "      <td>PenAndPaperPerson|The rollerball pen has a smo...</td>\n",
       "      <td>14.98</td>\n",
       "      <td>No</td>\n",
       "    </tr>\n",
       "  </tbody>\n",
       "</table>\n",
       "</div>"
      ],
      "text/plain": [
       "   Customer                   Item  Pen Cost  Shipping Cost Purchase Date  \\\n",
       "0      5201         Ballpoint Pens      5.99           2.99    2023-05-01   \n",
       "1      5202               Sharpies     12.99           0.00    2023-05-01   \n",
       "2      5203  Ballpoint Pens (Bold)      6.95           4.99    2023-05-01   \n",
       "3      5204               Gel Pens      5.99           2.99    2023-05-01   \n",
       "4      5205        Rollerball Pens     12.99           1.99    2023-05-01   \n",
       "\n",
       "  Delivery Date                                             Review  \\\n",
       "0    2023-05-03  DoodleWithMe|I love the way this pen writes, b...   \n",
       "1    2023-05-04  ScribbleMaster|The classic Sharpie marker has ...   \n",
       "2    2023-05-02  PenPalForever|The retractable ballpoint pen ha...   \n",
       "3    2023-05-04  TheWriteWay|This gel pen has a comfortable gri...   \n",
       "4    2023-05-03  PenAndPaperPerson|The rollerball pen has a smo...   \n",
       "\n",
       "   Total Spend Free Shipping  \n",
       "0         8.98            No  \n",
       "1        12.99           Yes  \n",
       "2        11.94            No  \n",
       "3         8.98            No  \n",
       "4        14.98            No  "
      ]
     },
     "execution_count": 7,
     "metadata": {},
     "output_type": "execute_result"
    }
   ],
   "source": [
    "import numpy as np\n",
    "pens['Total Spend']=pens['Pen Cost']+pens['Shipping Cost']\n",
    "pens['Free Shipping']=np.where(pens['Shipping Cost']==0,'Yes','No')\n",
    "pens.head()"
   ]
  },
  {
   "cell_type": "markdown",
   "metadata": {},
   "source": [
    "## 8. Create Columns From DateTime Data"
   ]
  },
  {
   "cell_type": "markdown",
   "metadata": {},
   "source": [
    "* Calculate the difference between two datetime columns and save it as a new column\n",
    "* Take the average of a column"
   ]
  },
  {
   "cell_type": "code",
   "execution_count": null,
   "metadata": {},
   "outputs": [],
   "source": [
    "# Calculate the number of days between the purchase and delivery date for each sale\n",
    "# Save it as a new column called “Delivery Time”\n",
    "# What were the average days from purchase to delivery?"
   ]
  },
  {
   "cell_type": "code",
   "execution_count": 15,
   "metadata": {},
   "outputs": [
    {
     "data": {
      "text/plain": [
       "Timedelta('3 days 05:45:36')"
      ]
     },
     "execution_count": 15,
     "metadata": {},
     "output_type": "execute_result"
    }
   ],
   "source": [
    "\n",
    "pens['Delivery Time']=pens['Delivery Date']-pens['Purchase Date']\n",
    "pens['Delivery Time'].mean()"
   ]
  },
  {
   "cell_type": "code",
   "execution_count": null,
   "metadata": {},
   "outputs": [],
   "source": []
  },
  {
   "cell_type": "markdown",
   "metadata": {},
   "source": [
    "## 9. Create Columns From Text Data"
   ]
  },
  {
   "cell_type": "markdown",
   "metadata": {},
   "source": [
    "* Split one column into multiple columns\n",
    "* Create a Boolean column (True / False) to show whether a text field contains particular words"
   ]
  },
  {
   "cell_type": "code",
   "execution_count": null,
   "metadata": {},
   "outputs": [],
   "source": [
    "# Split the reviews on the “|” character to create two new columns: “User Name” and “Review Text”\n",
    "# Create a “Leak or Spill” column that flags the reviews that mention either “leak” or “spill”"
   ]
  },
  {
   "cell_type": "code",
   "execution_count": null,
   "metadata": {},
   "outputs": [],
   "source": []
  },
  {
   "cell_type": "code",
   "execution_count": null,
   "metadata": {},
   "outputs": [],
   "source": []
  }
 ],
 "metadata": {
  "kernelspec": {
   "display_name": "Python 3",
   "language": "python",
   "name": "python3"
  },
  "language_info": {
   "codemirror_mode": {
    "name": "ipython",
    "version": 3
   },
   "file_extension": ".py",
   "mimetype": "text/x-python",
   "name": "python",
   "nbconvert_exporter": "python",
   "pygments_lexer": "ipython3",
   "version": "3.13.2"
  }
 },
 "nbformat": 4,
 "nbformat_minor": 4
}
