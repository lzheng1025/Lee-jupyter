{
 "cells": [
  {
   "cell_type": "code",
   "execution_count": 2,
   "metadata": {},
   "outputs": [
    {
     "name": "stdout",
     "output_type": "stream",
     "text": [
      "<class 'pandas.core.frame.DataFrame'>\n",
      "RangeIndex: 86 entries, 0 to 85\n",
      "Data columns (total 4 columns):\n",
      " #   Column   Non-Null Count  Dtype  \n",
      "---  ------   --------------  -----  \n",
      " 0   Student  84 non-null     object \n",
      " 1   Class    83 non-null     object \n",
      " 2   Year     80 non-null     object \n",
      " 3   Grade    82 non-null     float64\n",
      "dtypes: float64(1), object(3)\n",
      "memory usage: 2.8+ KB\n"
     ]
    },
    {
     "data": {
      "text/html": [
       "<div>\n",
       "<style scoped>\n",
       "    .dataframe tbody tr th:only-of-type {\n",
       "        vertical-align: middle;\n",
       "    }\n",
       "\n",
       "    .dataframe tbody tr th {\n",
       "        vertical-align: top;\n",
       "    }\n",
       "\n",
       "    .dataframe thead th {\n",
       "        text-align: right;\n",
       "    }\n",
       "</style>\n",
       "<table border=\"1\" class=\"dataframe\">\n",
       "  <thead>\n",
       "    <tr style=\"text-align: right;\">\n",
       "      <th></th>\n",
       "      <th>Student</th>\n",
       "      <th>Class</th>\n",
       "      <th>Year</th>\n",
       "      <th>Grade</th>\n",
       "    </tr>\n",
       "  </thead>\n",
       "  <tbody>\n",
       "    <tr>\n",
       "      <th>0</th>\n",
       "      <td>Emma</td>\n",
       "      <td>Freshman Seminar</td>\n",
       "      <td>Freshman</td>\n",
       "      <td>86.0</td>\n",
       "    </tr>\n",
       "    <tr>\n",
       "      <th>1</th>\n",
       "      <td>Olivia</td>\n",
       "      <td>Freshman Seminar</td>\n",
       "      <td>Freshman</td>\n",
       "      <td>86.0</td>\n",
       "    </tr>\n",
       "    <tr>\n",
       "      <th>2</th>\n",
       "      <td>Noah</td>\n",
       "      <td>Freshman Seminar</td>\n",
       "      <td>Freshman</td>\n",
       "      <td>86.0</td>\n",
       "    </tr>\n",
       "    <tr>\n",
       "      <th>3</th>\n",
       "      <td>Sophia</td>\n",
       "      <td>Freshman Seminar</td>\n",
       "      <td>Freshman</td>\n",
       "      <td>87.0</td>\n",
       "    </tr>\n",
       "    <tr>\n",
       "      <th>4</th>\n",
       "      <td>Liam</td>\n",
       "      <td>Freshman Seminar</td>\n",
       "      <td>Freshman</td>\n",
       "      <td>90.0</td>\n",
       "    </tr>\n",
       "  </tbody>\n",
       "</table>\n",
       "</div>"
      ],
      "text/plain": [
       "  Student             Class      Year  Grade\n",
       "0    Emma  Freshman Seminar  Freshman   86.0\n",
       "1  Olivia  Freshman Seminar  Freshman   86.0\n",
       "2    Noah  Freshman Seminar  Freshman   86.0\n",
       "3  Sophia  Freshman Seminar  Freshman   87.0\n",
       "4    Liam  Freshman Seminar  Freshman   90.0"
      ]
     },
     "execution_count": 2,
     "metadata": {},
     "output_type": "execute_result"
    }
   ],
   "source": [
    "import pandas as pd \n",
    "df=pd.read_excel(r\"C:\\Users\\lzhen\\Downloads\\Data+Science+in+Python+-+Data+Prep+&+EDA\\Data\\Student Grades.xlsx\")\n",
    "df.info()\n",
    "df.head()"
   ]
  },
  {
   "cell_type": "code",
   "execution_count": 3,
   "metadata": {},
   "outputs": [
    {
     "data": {
      "text/plain": [
       "Class\n",
       "Intro to Python              25\n",
       "Intro to SQL                 20\n",
       "EDA                          13\n",
       "Exploratory Data Analysis    12\n",
       "Freshman Seminar             12\n",
       "NaN                           3\n",
       "Python                        1\n",
       "Name: count, dtype: int64"
      ]
     },
     "execution_count": 3,
     "metadata": {},
     "output_type": "execute_result"
    }
   ],
   "source": [
    "df['Class'].value_counts(dropna=False)"
   ]
  },
  {
   "cell_type": "code",
   "execution_count": 4,
   "metadata": {},
   "outputs": [
    {
     "data": {
      "text/html": [
       "<div>\n",
       "<style scoped>\n",
       "    .dataframe tbody tr th:only-of-type {\n",
       "        vertical-align: middle;\n",
       "    }\n",
       "\n",
       "    .dataframe tbody tr th {\n",
       "        vertical-align: top;\n",
       "    }\n",
       "\n",
       "    .dataframe thead th {\n",
       "        text-align: right;\n",
       "    }\n",
       "</style>\n",
       "<table border=\"1\" class=\"dataframe\">\n",
       "  <thead>\n",
       "    <tr style=\"text-align: right;\">\n",
       "      <th></th>\n",
       "      <th>Student</th>\n",
       "      <th>Class</th>\n",
       "      <th>Year</th>\n",
       "      <th>Grade</th>\n",
       "    </tr>\n",
       "  </thead>\n",
       "  <tbody>\n",
       "    <tr>\n",
       "      <th>60</th>\n",
       "      <td>Ella</td>\n",
       "      <td>Exploratory Data Analysis</td>\n",
       "      <td>Sophomore</td>\n",
       "      <td>200.0</td>\n",
       "    </tr>\n",
       "  </tbody>\n",
       "</table>\n",
       "</div>"
      ],
      "text/plain": [
       "   Student                      Class       Year  Grade\n",
       "60    Ella  Exploratory Data Analysis  Sophomore  200.0"
      ]
     },
     "execution_count": 4,
     "metadata": {},
     "output_type": "execute_result"
    }
   ],
   "source": [
    "df[df.Grade>100]"
   ]
  },
  {
   "cell_type": "code",
   "execution_count": 5,
   "metadata": {},
   "outputs": [
    {
     "data": {
      "text/plain": [
       "Class\n",
       "Intro to Python              26\n",
       "Exploratory Data Analysis    25\n",
       "Intro to SQL                 20\n",
       "Freshman Seminar             12\n",
       "Name: count, dtype: int64"
      ]
     },
     "execution_count": 5,
     "metadata": {},
     "output_type": "execute_result"
    }
   ],
   "source": [
    "import numpy as np \n",
    "df.Class=np.where(df.Class=='EDA', 'Exploratory Data Analysis', df.Class)\n",
    "df.Class=np.where(df.Class=='Python', 'Intro to Python', df.Class)\n",
    "#df.Class.value_counts(dropna=False)\n",
    "df.Class.value_counts()"
   ]
  },
  {
   "cell_type": "code",
   "execution_count": 6,
   "metadata": {},
   "outputs": [
    {
     "data": {
      "text/plain": [
       "count     82.000000\n",
       "mean      84.487805\n",
       "std        8.991414\n",
       "min       45.000000\n",
       "25%       81.000000\n",
       "50%       85.000000\n",
       "75%       90.000000\n",
       "max      100.000000\n",
       "Name: Grade, dtype: float64"
      ]
     },
     "execution_count": 6,
     "metadata": {},
     "output_type": "execute_result"
    }
   ],
   "source": [
    "df.Grade=np.where(df['Grade']>100, 100, df['Grade'])\n",
    "df.Grade.describe()"
   ]
  },
  {
   "cell_type": "code",
   "execution_count": 7,
   "metadata": {},
   "outputs": [
    {
     "data": {
      "text/plain": [
       "Class\n",
       "Intro to Python              26\n",
       "Exploratory Data Analysis    25\n",
       "Intro to SQL                 20\n",
       "Freshman Seminar             12\n",
       "NaN                           3\n",
       "Name: count, dtype: int64"
      ]
     },
     "execution_count": 7,
     "metadata": {},
     "output_type": "execute_result"
    }
   ],
   "source": [
    "import pandas as pd \n",
    "df_grades=pd.read_excel(r\"C:\\Users\\lzhen\\Downloads\\Data+Science+in+Python+-+Data+Prep+&+EDA\\Data\\Student Grades.xlsx\")\n",
    "grade_maping={'EDA':'Exploratory Data Analysis', 'Python':'Intro to Python','Exploratory Data Analysis':'Exploratory Data Analysis',\n",
    "              'Intro to Python':'Intro to Python','Freshman Seminar':'Freshman Seminar','Intro to SQL':'Intro to SQL'}\n",
    "df_grades.Class=df_grades.Class.map(grade_maping)\n",
    "df_grades.Class.value_counts(dropna=False)"
   ]
  },
  {
   "cell_type": "code",
   "execution_count": 8,
   "metadata": {},
   "outputs": [
    {
     "data": {
      "text/html": [
       "<div>\n",
       "<style scoped>\n",
       "    .dataframe tbody tr th:only-of-type {\n",
       "        vertical-align: middle;\n",
       "    }\n",
       "\n",
       "    .dataframe tbody tr th {\n",
       "        vertical-align: top;\n",
       "    }\n",
       "\n",
       "    .dataframe thead th {\n",
       "        text-align: right;\n",
       "    }\n",
       "</style>\n",
       "<table border=\"1\" class=\"dataframe\">\n",
       "  <thead>\n",
       "    <tr style=\"text-align: right;\">\n",
       "      <th></th>\n",
       "      <th>Student</th>\n",
       "      <th>Class</th>\n",
       "      <th>Year</th>\n",
       "      <th>Grade</th>\n",
       "    </tr>\n",
       "  </thead>\n",
       "  <tbody>\n",
       "    <tr>\n",
       "      <th>0</th>\n",
       "      <td>Emma</td>\n",
       "      <td>Freshman Seminar</td>\n",
       "      <td>Freshman</td>\n",
       "      <td>86.0</td>\n",
       "    </tr>\n",
       "    <tr>\n",
       "      <th>1</th>\n",
       "      <td>Olivia</td>\n",
       "      <td>Freshman Seminar</td>\n",
       "      <td>Freshman</td>\n",
       "      <td>86.0</td>\n",
       "    </tr>\n",
       "    <tr>\n",
       "      <th>2</th>\n",
       "      <td>Noah</td>\n",
       "      <td>Freshman Seminar</td>\n",
       "      <td>Freshman</td>\n",
       "      <td>86.0</td>\n",
       "    </tr>\n",
       "    <tr>\n",
       "      <th>3</th>\n",
       "      <td>Sophia</td>\n",
       "      <td>Freshman Seminar</td>\n",
       "      <td>Freshman</td>\n",
       "      <td>87.0</td>\n",
       "    </tr>\n",
       "    <tr>\n",
       "      <th>4</th>\n",
       "      <td>Liam</td>\n",
       "      <td>Freshman Seminar</td>\n",
       "      <td>Freshman</td>\n",
       "      <td>90.0</td>\n",
       "    </tr>\n",
       "  </tbody>\n",
       "</table>\n",
       "</div>"
      ],
      "text/plain": [
       "  Student             Class      Year  Grade\n",
       "0    Emma  Freshman Seminar  Freshman   86.0\n",
       "1  Olivia  Freshman Seminar  Freshman   86.0\n",
       "2    Noah  Freshman Seminar  Freshman   86.0\n",
       "3  Sophia  Freshman Seminar  Freshman   87.0\n",
       "4    Liam  Freshman Seminar  Freshman   90.0"
      ]
     },
     "execution_count": 8,
     "metadata": {},
     "output_type": "execute_result"
    }
   ],
   "source": [
    "#---------------------------Duplicate------------------------#\n",
    "import pandas as pd \n",
    "df1=pd.read_excel(r\"C:\\Users\\lzhen\\Downloads\\Data+Science+in+Python+-+Data+Prep+&+EDA\\Data\\Student Grades.xlsx\")\n",
    "df1=df1.drop_duplicates().reset_index(drop=True)\n",
    "df1.head()"
   ]
  },
  {
   "cell_type": "code",
   "execution_count": 13,
   "metadata": {},
   "outputs": [
    {
     "data": {
      "text/plain": [
       "count     82.000000\n",
       "mean      84.890244\n",
       "std        7.557199\n",
       "min       64.000000\n",
       "25%       81.000000\n",
       "50%       85.000000\n",
       "75%       90.000000\n",
       "max      100.000000\n",
       "Name: Grade, dtype: float64"
      ]
     },
     "execution_count": 13,
     "metadata": {},
     "output_type": "execute_result"
    }
   ],
   "source": [
    "min_grade=df[df['Grade']>=60].Grade.min()\n",
    "df['Grade']=np.where(df['Grade']<60, min_grade, df.Grade)\n",
    "df.Grade.describe()"
   ]
  }
 ],
 "metadata": {
  "kernelspec": {
   "display_name": "Python 3",
   "language": "python",
   "name": "python3"
  },
  "language_info": {
   "codemirror_mode": {
    "name": "ipython",
    "version": 3
   },
   "file_extension": ".py",
   "mimetype": "text/x-python",
   "name": "python",
   "nbconvert_exporter": "python",
   "pygments_lexer": "ipython3",
   "version": "3.13.2"
  }
 },
 "nbformat": 4,
 "nbformat_minor": 2
}
