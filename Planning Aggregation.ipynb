{
 "cells": [
  {
   "cell_type": "code",
   "execution_count": 5,
   "metadata": {},
   "outputs": [
    {
     "name": "stderr",
     "output_type": "stream",
     "text": [
      "C:\\Users\\Lee.Zheng\\AppData\\Local\\Temp\\ipykernel_20536\\720767933.py:24: UserWarning: pandas only supports SQLAlchemy connectable (engine/connection) or database string URI or sqlite3 DBAPI2 connection. Other DBAPI2 objects are not tested. Please consider using SQLAlchemy.\n",
      "  planning_df = pd.read_sql_query(query, conn)\n"
     ]
    }
   ],
   "source": [
    "import pyodbc\n",
    "import pandas as pd\n",
    "\n",
    "# Establish the database connection\n",
    "conn = pyodbc.connect(\n",
    "    \"DRIVER={MySQL ODBC 5.3 ANSI Driver};\"\n",
    "    \"SERVER=mandj-db-3.mandjchickens.local;\"\n",
    "    \"DATABASE=mandj_reports;\"\n",
    "    \"UID=mandj_reports_ro;\"\n",
    "    \"PWD=Rhaps0dy;\"\n",
    ")\n",
    "\n",
    "# Define the file path for the Excel output\n",
    "planning_file = r\"C:\\Users\\Lee.Zheng\\Desktop\\Planning.xlsx\"\n",
    "\n",
    "# Define and execute the SQL query to load the result into a DataFrame.\n",
    "# This query joins the Planning table with a subquery that selects the minimum id for each distinct SourceProductCode.\n",
    "query = \"\"\"\n",
    "    SELECT p.*\n",
    "    FROM mandj_reports.Planning p\n",
    "    \n",
    "\"\"\"\n",
    "\n",
    "planning_df = pd.read_sql_query(query, conn)\n",
    "planning_df=planning_df[['SourceProductCode','SourceDescription','WeightKG']]\n",
    "planning_df=planning_df.groupby(['SourceProductCode','SourceDescription']).agg({\n",
    "    'WeightKG': 'sum'}).reset_index()\n",
    "# Save the DataFrame to an Excel file\n",
    "planning_df.to_excel(planning_file, index=False)\n",
    "\n",
    "# Close the database connection\n",
    "conn.close()"
   ]
  }
 ],
 "metadata": {
  "kernelspec": {
   "display_name": "Python 3",
   "language": "python",
   "name": "python3"
  },
  "language_info": {
   "codemirror_mode": {
    "name": "ipython",
    "version": 3
   },
   "file_extension": ".py",
   "mimetype": "text/x-python",
   "name": "python",
   "nbconvert_exporter": "python",
   "pygments_lexer": "ipython3",
   "version": "3.13.2"
  }
 },
 "nbformat": 4,
 "nbformat_minor": 2
}
