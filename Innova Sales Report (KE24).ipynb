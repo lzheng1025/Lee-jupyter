{
 "cells": [
  {
   "cell_type": "code",
   "execution_count": 1,
   "id": "35003a7d",
   "metadata": {},
   "outputs": [],
   "source": [
    "import  pandas as pd\n",
    "from openpyxl import load_workbook\n",
    "\n",
    "# Define file path\n",
    "df = pd.read_excel(r\"C:\\Users\\141823\\OneDrive - Etex Group\\Desktop\\Etex AU - Finance - Finance\\19.Business Systems\\Innova Sales Report\\KE24.xlsx\")\n",
    "file_path=r\"C:\\Users\\141823\\OneDrive - Etex Group\\Desktop\\Etex AU - Finance - Finance\\19.Business Systems\\Innova Sales Report\\Mapping.xlsx\"\n",
    "\n",
    "# Load Excel file\n",
    "xls = pd.ExcelFile(file_path)\n",
    "\n",
    "# Read \"Sales Office\" and \"Innova Group\" sheets\n",
    "df_region = pd.read_excel(xls, sheet_name=\"Sales Office\", header=0)\n",
    "df_group = pd.read_excel(xls, sheet_name=\"Innova Group\", header=0)\n",
    "\n",
    "# Read Customer masterdata\n",
    "df_customer=pd.read_excel(r\"C:\\Users\\141823\\OneDrive - Etex Group\\Desktop\\Etex AU - Finance - Finance\\00. Master data\\Customer Master Data _Etex.XLSX\")\n",
    "df_customer=df_customer[['Customer','Sales Office']].drop_duplicates(subset='Customer')\n",
    "df_customer['Customer']=df_customer['Customer'].astype('string')\n",
    "df['Customer']=df['Customer'].astype('string')\n",
    "\n",
    "df=df.merge(df_customer, on='Customer', how='left')\n",
    "\n",
    "df=df.merge(df_region, on='Sales Office', how='left')\n",
    "\n",
    "df_group['Product']=df_group['Product'].astype('string')\n",
    "df['Product']=df['Product'].astype('string')\n",
    "df=df.merge(df_group, on='Product', how='left')\n",
    "\n"
   ]
  },
  {
   "cell_type": "code",
   "execution_count": 3,
   "id": "9160320a",
   "metadata": {},
   "outputs": [],
   "source": [
    "# Load the workbook\n",
    "final_path=r\"C:\\Users\\141823\\OneDrive - Etex Group\\Desktop\\Etex AU - Finance - Finance\\19.Business Systems\\Innova Sales Report\\Innova Sales.xlsx\"\n",
    "wb = load_workbook(final_path)\n",
    "ws = wb[\"Sheet1\"]\n",
    "\n",
    "# Clear old data but keep headers\n",
    "ws.delete_rows(2, ws.max_row)  # Deletes from row 2 downwards (keeps headers)\n",
    "df = df.astype(object).where(pd.notna(df), None)\n",
    "\n",
    "\n",
    "# Write updated DataFrame back to \"Raw Data\" (including headers)\n",
    "for c_idx, column in enumerate(df.columns, start=1):\n",
    "    ws.cell(row=1, column=c_idx, value=column)  # Write column headers\n",
    "\n",
    "for r_idx, row in enumerate(df.itertuples(index=False), start=2):  # Start from row 2 (below headers)\n",
    "    for c_idx, value in enumerate(row, start=1):\n",
    "        ws.cell(row=r_idx, column=c_idx, value=value)\n",
    "\n",
    "# Auto-adjust column widths\n",
    "for col in ws.columns:\n",
    "    max_length = 0\n",
    "    col_letter = col[0].column_letter  # Get column letter (A, B, C, etc.)\n",
    "    for cell in col:\n",
    "        try:\n",
    "            if cell.value:\n",
    "                max_length = max(max_length, len(str(cell.value)))\n",
    "        except:\n",
    "            pass\n",
    "    ws.column_dimensions[col_letter].width = max_length + 2  # Add padding\n",
    "\n",
    "# Save the workbook\n",
    "wb.save(final_path)\n",
    "\n"
   ]
  }
 ],
 "metadata": {
  "kernelspec": {
   "display_name": "Python 3",
   "language": "python",
   "name": "python3"
  },
  "language_info": {
   "codemirror_mode": {
    "name": "ipython",
    "version": 3
   },
   "file_extension": ".py",
   "mimetype": "text/x-python",
   "name": "python",
   "nbconvert_exporter": "python",
   "pygments_lexer": "ipython3",
   "version": "3.12.10"
  }
 },
 "nbformat": 4,
 "nbformat_minor": 5
}
