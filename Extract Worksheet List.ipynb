{
 "cells": [
  {
   "cell_type": "code",
   "execution_count": 2,
   "id": "ed14d973",
   "metadata": {},
   "outputs": [
    {
     "name": "stderr",
     "output_type": "stream",
     "text": [
      "C:\\Users\\141823\\AppData\\Local\\Packages\\PythonSoftwareFoundation.Python.3.12_qbz5n2kfra8p0\\LocalCache\\local-packages\\Python312\\site-packages\\openpyxl\\reader\\workbook.py:118: UserWarning: Print area cannot be set to Defined name: 'Metal Plant Summary'!$2:$108.\n",
      "  warn(f\"Print area cannot be set to Defined name: {defn.value}.\")\n",
      "C:\\Users\\141823\\AppData\\Local\\Packages\\PythonSoftwareFoundation.Python.3.12_qbz5n2kfra8p0\\LocalCache\\local-packages\\Python312\\site-packages\\openpyxl\\reader\\workbook.py:118: UserWarning: Print area cannot be set to Defined name: 'National operations Summary'!$2:$108.\n",
      "  warn(f\"Print area cannot be set to Defined name: {defn.value}.\")\n",
      "C:\\Users\\141823\\AppData\\Local\\Packages\\PythonSoftwareFoundation.Python.3.12_qbz5n2kfra8p0\\LocalCache\\local-packages\\Python312\\site-packages\\openpyxl\\reader\\workbook.py:118: UserWarning: Print area cannot be set to Defined name: 'Sales and Marketing Summary'!$2:$108.\n",
      "  warn(f\"Print area cannot be set to Defined name: {defn.value}.\")\n",
      "C:\\Users\\141823\\AppData\\Local\\Packages\\PythonSoftwareFoundation.Python.3.12_qbz5n2kfra8p0\\LocalCache\\local-packages\\Python312\\site-packages\\openpyxl\\reader\\workbook.py:118: UserWarning: Print area cannot be set to Defined name: 'Supply Chain Summary'!$2:$108.\n",
      "  warn(f\"Print area cannot be set to Defined name: {defn.value}.\")\n",
      "C:\\Users\\141823\\AppData\\Local\\Packages\\PythonSoftwareFoundation.Python.3.12_qbz5n2kfra8p0\\LocalCache\\local-packages\\Python312\\site-packages\\openpyxl\\reader\\workbook.py:118: UserWarning: Print area cannot be set to Defined name: 'Total Manufacturing Summary'!$2:$108.\n",
      "  warn(f\"Print area cannot be set to Defined name: {defn.value}.\")\n"
     ]
    }
   ],
   "source": [
    "import os\n",
    "from openpyxl import load_workbook\n",
    "\n",
    "# Folder containing the Excel workbooks\n",
    "folder_path = r\"C:\\Users\\141823\\OneDrive - Etex Group\\Desktop\\Etex AU - Finance - Finance\\19.Business Systems\\Overhead Report\\New folder\"\n",
    "\n",
    "# List to collect results\n",
    "all_sheet_info = []\n",
    "\n",
    "# Loop through Excel files in the folder\n",
    "for file in os.listdir(folder_path):\n",
    "    if file.endswith(\".xlsx\") or file.endswith(\".xlsm\"):\n",
    "        file_path = os.path.join(folder_path, file)\n",
    "        try:\n",
    "            wb = load_workbook(file_path, read_only=True, data_only=True)\n",
    "            sheet_names = wb.sheetnames\n",
    "            for sheet in sheet_names:\n",
    "                all_sheet_info.append({'Workbook': file, 'Sheet Name': sheet})\n",
    "        except Exception as e:\n",
    "            print(f\"Failed to read {file}: {e}\")\n",
    "\n",
    "# Save results to a summary Excel\n",
    "import pandas as pd\n",
    "df = pd.DataFrame(all_sheet_info)\n",
    "df.to_excel(os.path.join(folder_path, \"Workbook_Sheet_List.xlsx\"), index=False)\n",
    "\n",
    "\n"
   ]
  }
 ],
 "metadata": {
  "kernelspec": {
   "display_name": "Python 3",
   "language": "python",
   "name": "python3"
  },
  "language_info": {
   "codemirror_mode": {
    "name": "ipython",
    "version": 3
   },
   "file_extension": ".py",
   "mimetype": "text/x-python",
   "name": "python",
   "nbconvert_exporter": "python",
   "pygments_lexer": "ipython3",
   "version": "3.12.10"
  }
 },
 "nbformat": 4,
 "nbformat_minor": 5
}
