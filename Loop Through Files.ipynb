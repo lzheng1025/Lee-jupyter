{
 "cells": [
  {
   "cell_type": "code",
   "execution_count": null,
   "id": "3dde6592",
   "metadata": {},
   "outputs": [
    {
     "name": "stdout",
     "output_type": "stream",
     "text": [
      "Processing: 202401.xlsm\n",
      "Processing: 202402.xlsm\n",
      "Processing: 202403.xlsm\n",
      "Processing: 202404.xlsm\n",
      "Processing: 202405.xlsm\n",
      "Processing: 202406.xlsm\n",
      "Processing: 202407.xlsm\n",
      "Processing: 202408.xlsm\n",
      "Processing: 202409.xlsm\n",
      "Processing: 202410.xlsm\n",
      "Processing: 202411.xlsm\n"
     ]
    }
   ],
   "source": [
    "import os\n",
    "from pathlib import Path\n",
    "from openpyxl import load_workbook\n",
    "import pandas as pd\n",
    "\n",
    "# Define the folder path\n",
    "folder_path = r\"C:\\Users\\141823\\OneDrive - Etex Group\\Desktop\\Etex AU - Finance - Finance\\19.Business Systems\\Revenue Report Achieve\\Monthly Pack\"\n",
    "\n",
    "# Prepare a list to collect data from all files\n",
    "all_data = []\n",
    "\n",
    "# Loop through all files in the folder\n",
    "for file_name in os.listdir(folder_path):\n",
    "    if file_name.endswith(\".xlsx\") or file_name.endswith(\".xlsm\"):\n",
    "        file_path = os.path.join(folder_path, file_name)\n",
    "        print(f\"Processing: {file_name}\")\n",
    "\n",
    "        wb = load_workbook(file_path, data_only=True)\n",
    "        \n",
    "        if \"10. Margin-Board\" not in wb.sheetnames:\n",
    "            print(f\"Worksheet '10. Margin-Board' not found in {file_name}, skipping.\")\n",
    "            continue\n",
    "        \n",
    "        ws = wb[\"10. Margin-Board\"]\n",
    "        \n",
    "        # Helper to extract range as list of values\n",
    "        def get_range(ws, min_row, max_row, min_col, max_col):\n",
    "            return [\n",
    "                [cell.value for cell in row]\n",
    "                for row in ws.iter_rows(min_row=min_row, max_row=max_row, min_col=min_col, max_col=max_col)\n",
    "            ]\n",
    "        \n",
    "        # Get each range\n",
    "        range1 = get_range(ws, 5, 265, 2, 4)  # B5:D265\n",
    "        range2 = get_range(ws, 5, 265, 7, 7)  # G5:G265\n",
    "        range3 = get_range(ws, 5, 265, 13, 13)  # M5:M265\n",
    "        \n",
    "        # Combine columns side by side\n",
    "        combined_rows = []\n",
    "        for r1, r2, r3 in zip(range1, range2, range3):\n",
    "            combined_rows.append(r1 + r2 + r3 + [file_name])\n",
    "\n",
    "        all_data.extend(combined_rows)\n",
    "\n",
    "# Create column names\n",
    "columns = [\"Col_B\", \"Col_C\", \"Col_D\", \"Col_G\", \"Col_M\", \"Source_File\"]\n",
    "\n",
    "# Convert to DataFrame\n",
    "df = pd.DataFrame(all_data, columns=columns)\n",
    "\n",
    "# Save to Excel\n",
    "output_file = Path(folder_path) / \"Combined_Margin_Data.xlsx\"\n",
    "df.to_excel(output_file, index=False)\n",
    "\n",
    "print(f\"\\nAll data consolidated into {output_file}\")\n"
   ]
  }
 ],
 "metadata": {
  "kernelspec": {
   "display_name": "Python 3",
   "language": "python",
   "name": "python3"
  },
  "language_info": {
   "codemirror_mode": {
    "name": "ipython",
    "version": 3
   },
   "file_extension": ".py",
   "mimetype": "text/x-python",
   "name": "python",
   "nbconvert_exporter": "python",
   "pygments_lexer": "ipython3",
   "version": "3.12.10"
  }
 },
 "nbformat": 4,
 "nbformat_minor": 5
}
