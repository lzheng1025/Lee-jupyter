{
 "cells": [
  {
   "cell_type": "code",
   "execution_count": null,
   "metadata": {},
   "outputs": [],
   "source": [
    "# Load the workbook\n",
    "wb = load_workbook(file_path)\n",
    "ws = wb[\"Raw Data\"]\n",
    "\n",
    "# Clear old data but keep headers\n",
    "ws.delete_rows(2, ws.max_row)  # Deletes from row 2 downwards (keeps headers)\n",
    "\n",
    "# Write updated DataFrame back to \"Raw Data\" (including headers)\n",
    "for c_idx, column in enumerate(df.columns, start=1):\n",
    "    ws.cell(row=1, column=c_idx, value=column)  # Write column headers\n",
    "\n",
    "for r_idx, row in enumerate(df.itertuples(index=False), start=2):  # Start from row 2 (below headers)\n",
    "    for c_idx, value in enumerate(row, start=1):\n",
    "        ws.cell(row=r_idx, column=c_idx, value=value)\n",
    "\n",
    "# Auto-adjust column widths\n",
    "for col in ws.columns:\n",
    "    max_length = 0\n",
    "    col_letter = col[0].column_letter  # Get column letter (A, B, C, etc.)\n",
    "    for cell in col:\n",
    "        try:\n",
    "            if cell.value:\n",
    "                max_length = max(max_length, len(str(cell.value)))\n",
    "        except:\n",
    "            pass\n",
    "    ws.column_dimensions[col_letter].width = max_length + 2  # Add padding\n",
    "\n",
    "# Save the workbook\n",
    "wb.save(file_path)\n",
    "\n"
   ]
  }
 ],
 "metadata": {
  "language_info": {
   "name": "python"
  }
 },
 "nbformat": 4,
 "nbformat_minor": 2
}
