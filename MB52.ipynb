{
 "cells": [
  {
   "cell_type": "code",
   "execution_count": 1,
   "id": "21337341",
   "metadata": {},
   "outputs": [],
   "source": [
    "import pandas as pd\n",
    "import numpy as np\n",
    "df_mb=pd.read_excel(r\"C:\\Users\\141823\\OneDrive - Etex Group\\Desktop\\Etex AU - Finance - Finance\\05. CO\\02. Production\\COOIS-Template\\MB52.xlsx\")\n",
    "material_df = pd.read_excel(r\"C:\\Users\\141823\\OneDrive - Etex Group\\Desktop\\Etex AU - Finance - Finance\\00. Master data\\Material Master Data _Etex AU 5500.xlsx\", sheet_name=0, header=None)\n",
    "file_path=(r\"C:\\Users\\141823\\OneDrive - Etex Group\\Desktop\\Etex AU - Finance - Finance\\05. CO\\02. Production\\COOIS-Template\\MB52-Template.xlsx\")\n",
    "df_plant=pd.read_excel(file_path, sheet_name='Plant Mapping')\n",
    "\n",
    "# Set the second row (index 1) as the column headers\n",
    "material_df.columns = material_df.iloc[1]  # Set second row as header\n",
    "material_df = material_df.iloc[2:].reset_index(drop=True)  # Drop first two rows\n",
    "\n",
    "# Pick needed columns and remove duplicates\n",
    "material_subset = material_df[['Material', 'P&L Classification']]\n",
    "material_subset = material_subset.drop_duplicates(subset=['Material', 'P&L Classification'])\n",
    "# Set data types for merge\n",
    "df_mb['Plant']=df_mb['Plant'].astype(str)\n",
    "df_plant['Plant']=df_plant['Plant'].astype(str)\n",
    "df_mb['Material'] = df_mb['Material'].astype(str).str.strip().str.replace(r'\\.0$', '', regex=True)\n",
    "material_subset['Material'] = material_subset['Material'].astype(str).str.strip().str.replace(r'\\.0$', '', regex=True)\n",
    "\n",
    "#Merge with Material Masterdata for 'P&L Classification' and df_plant for 'Plant Name'\n",
    "df_mb=df_mb.merge(material_subset, on='Material', how='left')\n",
    "df_mb=df_mb.merge(df_plant, on='Plant', how='left')\n",
    "\n",
    "#Move 'P&L Classification' to 3rd column and 'Plant Name' to 6th column\n",
    "def move_column(df, col_name, new_position):\n",
    "    cols = df.columns.tolist()\n",
    "    cols.insert(new_position, cols.pop(cols.index(col_name)))\n",
    "    return df[cols]\n",
    "\n",
    "# First move 'P&L Classification' to column index 2 (i.e., column C)\n",
    "df_mb = move_column(df_mb, 'P&L Classification', 2)\n",
    "\n",
    "# Then move 'Plant Name' to column index 5 (i.e., column F)\n",
    "df_mb = move_column(df_mb, 'Plant Name', 5)\n",
    "\n",
    "\n",
    "\n"
   ]
  },
  {
   "cell_type": "code",
   "execution_count": 3,
   "id": "202e8360",
   "metadata": {},
   "outputs": [],
   "source": [
    "# Load the workbook\n",
    "from openpyxl import load_workbook\n",
    "\n",
    "wb = load_workbook(file_path)\n",
    "ws = wb[\"MB52-Python\"]\n",
    "\n",
    "# Clear old data but keep headers\n",
    "ws.delete_rows(2, ws.max_row)  # Deletes from row 2 downwards (keeps headers)\n",
    "\n",
    "# Write updated DataFrame bac to \"MB52-Python\" (including headers)\n",
    "for c_idx, column in enumerate(df_mb.columns, start=1):\n",
    "    ws.cell(row=1, column=c_idx, value=column)  # Write column headers\n",
    "\n",
    "for r_idx, row in enumerate(df_mb.itertuples(index=False), start=2):  # Start from row 2 (below headers)\n",
    "    for c_idx, value in enumerate(row, start=1):\n",
    "        ws.cell(row=r_idx, column=c_idx, value=value)\n",
    "\n",
    "# Auto-adjust column widths\n",
    "for col in ws.columns:\n",
    "    max_length = 0\n",
    "    col_letter = col[0].column_letter  # Get column letter (A, B, C, etc.)\n",
    "    for cell in col:\n",
    "        try:\n",
    "            if cell.value:\n",
    "                max_length = max(max_length, len(str(cell.value)))\n",
    "        except:\n",
    "            pass\n",
    "    ws.column_dimensions[col_letter].width = max_length + 2  # Add padding\n",
    "\n",
    "# Save the workbook\n",
    "wb.save(file_path)\n",
    "\n"
   ]
  },
  {
   "cell_type": "markdown",
   "id": "374cc1fe",
   "metadata": {},
   "source": [
    "17/07/2025: I have created MB52 file to merge MB52 data with Material MasterData, and Plant Mapping\n",
    "The data will be written in MB52-Template sheet\n",
    "In 'Block Stock TBS and MTO Report-Template', I have created two VBAs, with one to run this code, and one to import data from MB52-Template file.\n",
    "# Remind end user that there will be NAN or Blank cells in the 'P&L Classification' columns and it is for the end user to go review and update the Material MasterData."
   ]
  }
 ],
 "metadata": {
  "kernelspec": {
   "display_name": "Python 3",
   "language": "python",
   "name": "python3"
  },
  "language_info": {
   "codemirror_mode": {
    "name": "ipython",
    "version": 3
   },
   "file_extension": ".py",
   "mimetype": "text/x-python",
   "name": "python",
   "nbconvert_exporter": "python",
   "pygments_lexer": "ipython3",
   "version": "3.12.10"
  }
 },
 "nbformat": 4,
 "nbformat_minor": 5
}
