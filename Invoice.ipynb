{
 "cells": [
  {
   "cell_type": "code",
   "execution_count": 10,
   "metadata": {},
   "outputs": [
    {
     "name": "stderr",
     "output_type": "stream",
     "text": [
      "C:\\Users\\Lee.Zheng\\AppData\\Local\\Temp\\ipykernel_12032\\1761412224.py:22: UserWarning: pandas only supports SQLAlchemy connectable (engine/connection) or database string URI or sqlite3 DBAPI2 connection. Other DBAPI2 objects are not tested. Please consider using SQLAlchemy.\n",
      "  invoice_df = pd.read_sql_query(query, conn)\n"
     ]
    }
   ],
   "source": [
    "import pyodbc\n",
    "import pandas as pd\n",
    "\n",
    "# Establish the database connection\n",
    "conn = pyodbc.connect(\n",
    "    \"DRIVER={MySQL ODBC 5.3 ANSI Driver};\"\n",
    "    \"SERVER=mandj-db-3.mandjchickens.local;\"\n",
    "    \"DATABASE=mandj_reports;\"\n",
    "    \"UID=mandj_reports_ro;\"\n",
    "    \"PWD=Rhaps0dy;\"\n",
    ")\n",
    "\n",
    "# Define the file path for the CSV output\n",
    "invoice_file = r\"C:\\Users\\Lee.Zheng\\Desktop\\Invoice.csv\"\n",
    "\n",
    "# Define and execute the SQL query to load the result into a DataFrame\n",
    "query = \"\"\"\n",
    "    SELECT *\n",
    "    FROM aws_invoices\n",
    "    LIMIT 100\n",
    "\"\"\"\n",
    "invoice_df = pd.read_sql_query(query, conn)\n",
    "\n",
    "# Optional: Process your DataFrame as needed\n",
    "# Example: Convert FC_Date to datetime (uncomment and adjust column name if required)\n",
    "# invoice_df['FC_Date'] = pd.to_datetime(invoice_df['FC_Date'], format='%d/%m/%Y')\n",
    "\n",
    "# Example: Fill NaN values in UNIT_FC with 0 and convert to integer (uncomment if needed)\n",
    "# invoice_df[\"UNIT_FC\"] = invoice_df[\"UNIT_FC\"].fillna(0).astype(int)\n",
    "\n",
    "# Save the DataFrame to a CSV file\n",
    "invoice_df.to_csv(invoice_file, index=False)\n",
    "\n",
    "# Close the database connection\n",
    "conn.close()"
   ]
  }
 ],
 "metadata": {
  "kernelspec": {
   "display_name": "Python 3",
   "language": "python",
   "name": "python3"
  },
  "language_info": {
   "codemirror_mode": {
    "name": "ipython",
    "version": 3
   },
   "file_extension": ".py",
   "mimetype": "text/x-python",
   "name": "python",
   "nbconvert_exporter": "python",
   "pygments_lexer": "ipython3",
   "version": "3.13.2"
  }
 },
 "nbformat": 4,
 "nbformat_minor": 2
}
