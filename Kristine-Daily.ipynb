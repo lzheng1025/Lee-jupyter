{
 "cells": [
  {
   "cell_type": "code",
   "execution_count": null,
   "metadata": {},
   "outputs": [],
   "source": [
    "import pandas as pd \n",
    "df=pd.read_excel(r\"Y:\\Admin - General\\Finance\\Power BI FIle\\Sales Report_New\\SAP Extract\\03 March\\Data.xlsx\")\n",
    "material_df=pd.read_excel(r\"C:\\Users\\141823\\Downloads\\Material Master Data _Etex AU 5500.xlsx\",sheet_name=0,header=None)\n",
    "customer_df=pd.read_excel(r\"C:\\Users\\141823\\Downloads\\Customer Master Data _Etex.XLSX\", sheet_name='Customer Masterdata')\n",
    "\n",
    "\n",
    "# Set the second row (index 1) as the column headers\n",
    "material_df.columns = material_df.iloc[1]\n",
    "\n",
    "# Drop the first two rows (original headers + new headers row)\n",
    "material_df = material_df.iloc[2:].reset_index(drop=True)\n",
    "material_df=material_df[['Material','P&L Classification']].rename(columns={'Material': 'Product', 'P&L Classification': 'PL'})\n",
    "material_df=material_df.drop_duplicates(subset=['Product','PL'])\n",
    "customer_df=customer_df[['Customer','Region']].rename(columns={'Region': 'State'})\n",
    "customer_df=customer_df.drop_duplicates(subset=['Customer', 'State'])"
   ]
  },
  {
   "cell_type": "code",
   "execution_count": 3,
   "metadata": {},
   "outputs": [],
   "source": [
    "merged_df = df.merge(customer_df, on='Customer', how='left')\n",
    "# Ensure 'Posting date' is in datetime format\n",
    "merged_df['Posting date'] = pd.to_datetime(merged_df['Posting date'], errors='coerce')\n",
    "\n",
    "# Format it as 'day/month/year' (e.g., 10/03/2025)\n",
    "merged_df['Posting date'] = merged_df['Posting date'].dt.strftime('%d/%m/%Y')\n",
    "\n",
    "#merged_df.to_excel(r\"C:\\Users\\141823\\OneDrive - Etex Group\\Desktop\\KE28.xlsx\",index=False)"
   ]
  },
  {
   "cell_type": "code",
   "execution_count": 5,
   "metadata": {},
   "outputs": [
    {
     "data": {
      "text/html": [
       "<div>\n",
       "<style scoped>\n",
       "    .dataframe tbody tr th:only-of-type {\n",
       "        vertical-align: middle;\n",
       "    }\n",
       "\n",
       "    .dataframe tbody tr th {\n",
       "        vertical-align: top;\n",
       "    }\n",
       "\n",
       "    .dataframe thead th {\n",
       "        text-align: right;\n",
       "    }\n",
       "</style>\n",
       "<table border=\"1\" class=\"dataframe\">\n",
       "  <thead>\n",
       "    <tr style=\"text-align: right;\">\n",
       "      <th></th>\n",
       "      <th>Product</th>\n",
       "      <th>rev</th>\n",
       "      <th>PL</th>\n",
       "    </tr>\n",
       "  </thead>\n",
       "  <tbody>\n",
       "    <tr>\n",
       "      <th>0</th>\n",
       "      <td>49332</td>\n",
       "      <td>80.01</td>\n",
       "      <td>Manufactured - Fire Protection Products</td>\n",
       "    </tr>\n",
       "    <tr>\n",
       "      <th>1</th>\n",
       "      <td>78230</td>\n",
       "      <td>880.90</td>\n",
       "      <td>Manufactured - Collar</td>\n",
       "    </tr>\n",
       "    <tr>\n",
       "      <th>2</th>\n",
       "      <td>78253</td>\n",
       "      <td>25698.90</td>\n",
       "      <td>Manufactured - Collar</td>\n",
       "    </tr>\n",
       "    <tr>\n",
       "      <th>3</th>\n",
       "      <td>78254</td>\n",
       "      <td>6662.19</td>\n",
       "      <td>Manufactured - Collar</td>\n",
       "    </tr>\n",
       "    <tr>\n",
       "      <th>4</th>\n",
       "      <td>78255</td>\n",
       "      <td>9085.59</td>\n",
       "      <td>Manufactured - Collar</td>\n",
       "    </tr>\n",
       "  </tbody>\n",
       "</table>\n",
       "</div>"
      ],
      "text/plain": [
       "  Product       rev                                       PL\n",
       "0   49332     80.01  Manufactured - Fire Protection Products\n",
       "1   78230    880.90                    Manufactured - Collar\n",
       "2   78253  25698.90                    Manufactured - Collar\n",
       "3   78254   6662.19                    Manufactured - Collar\n",
       "4   78255   9085.59                    Manufactured - Collar"
      ]
     },
     "execution_count": 5,
     "metadata": {},
     "output_type": "execute_result"
    }
   ],
   "source": [
    "group_df=merged_df\n",
    "group_df['rev']=merged_df['Net Price']+merged_df['Cat/List price']-merged_df['Comm. Discount 1&2']-merged_df['Comm. Discount 3']-merged_df['Collection Discount']\n",
    "# Group by 'Product' and sum 'rev'\n",
    "group_df = group_df.groupby(['Product'], as_index=False).agg({'rev': 'sum'})\n",
    "\n",
    "# Merge with material_df to bring additional details for each Product\n",
    "group_df = group_df.merge(material_df, on='Product', how='left')\n",
    "group_df.head()"
   ]
  },
  {
   "cell_type": "code",
   "execution_count": 6,
   "metadata": {},
   "outputs": [],
   "source": [
    "pl_df=group_df.groupby(['PL'], as_index=False).agg({'rev': 'sum'})\n"
   ]
  },
  {
   "cell_type": "code",
   "execution_count": 7,
   "metadata": {},
   "outputs": [],
   "source": [
    "import pandas as pd\n",
    "\n",
    "# Define the output Excel file path\n",
    "output_file = r\"C:\\Users\\141823\\OneDrive - Etex Group\\Desktop\\KE28.xlsx\"\n",
    "\n",
    "# Use ExcelWriter to write multiple DataFrames to different sheets\n",
    "with pd.ExcelWriter(output_file, engine='openpyxl') as writer:\n",
    "    merged_df.to_excel(writer, sheet_name='KE24_2025', index=False)\n",
    "    group_df.to_excel(writer, sheet_name='Product Summary', index=False)\n",
    "    pl_df.to_excel(writer, sheet_name='PL Summary', index=False)"
   ]
  }
 ],
 "metadata": {
  "kernelspec": {
   "display_name": "Python 3",
   "language": "python",
   "name": "python3"
  },
  "language_info": {
   "codemirror_mode": {
    "name": "ipython",
    "version": 3
   },
   "file_extension": ".py",
   "mimetype": "text/x-python",
   "name": "python",
   "nbconvert_exporter": "python",
   "pygments_lexer": "ipython3",
   "version": "3.12.9"
  }
 },
 "nbformat": 4,
 "nbformat_minor": 2
}
