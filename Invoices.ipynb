{
 "cells": [
  {
   "cell_type": "code",
   "execution_count": 3,
   "metadata": {},
   "outputs": [
    {
     "name": "stderr",
     "output_type": "stream",
     "text": [
      "C:\\Users\\Lee.Zheng\\AppData\\Local\\Temp\\ipykernel_14664\\2049972620.py:64: UserWarning: pandas only supports SQLAlchemy connectable (engine/connection) or database string URI or sqlite3 DBAPI2 connection. Other DBAPI2 objects are not tested. Please consider using SQLAlchemy.\n",
      "  invoice_df = pd.read_sql_query(query, conn)\n"
     ]
    },
    {
     "ename": "DatabaseError",
     "evalue": "Execution failed on sql '\n    SELECT DatabaseCode, Document, DocType, InvoiceDate, Week, Month, Customer, Name, BillTo, BillToName, MappingName, \n           PriceGroup, CreatedBy, Product, Description, UnitCode, Level1, Level2, Level3, Level4, Level5, Division, \n           Brand, MeatType, ChickenSize, Cut, Process, Bone, Skin, Portion, PortionSize, Crumb, Temp, PricePerKg, \n           SpecialPrice, BoneProduct, Channel, `NOT-041-REV-NETSALES`, CreditReason, ObsoleteFlag, CostType, CustPo,\n           SUM(TotalSale) as GSV, \n           SUM(InvoiceQty) as InvoiceQty,\n           -SUM(TotalRebate) as TotalRebate, \n           SUM(TotalKG) as TotalKG, \n           -SUM(MAF) as MAF, \n           -SUM(GLVarRebate) as GLVarRebate, \n           -SUM(TotalPoultry) as TotalPoultry, \n           -SUM(TotalFixed) as TotalFixed,\n           -SUM(TotalFixedCosts) as TotalFixedCosts,\n           -SUM(TotalRawOther) as TotalRawOther, \n           -SUM(TotalPackaging) as TotalPackaging, \n           -SUM(TotalLabour) as TotalLabour, \n           -SUM(TotalOvertime) as TotalOvertime, \n           -SUM(TotalVariable) as TotalVariable, \n           -SUM(TotalICLogs) as TotalIClogs, \n           -SUM(Freight) as TotalFreight, \n           -SUM(Delivery) as TotalDelivery, \n           -SUM(TotalLabourFixed) as TotalLabourFixed, \n           -SUM(TotalLabourVariable) as TotalLabourVariable, \n           -SUM(TotalVarToGL_Poultry) as TotalVarToGL_Poultry, \n           -SUM(TotalVarToGL_RawOther) as TotalVarToGL_RawOther, \n           -SUM(TotalVarToGL_Packaging) as TotalVarToGL_Packaging, \n           -SUM(TotalVarToGL_Labour) as TotalVarToGL_Labour, \n           -SUM(TotalVarToGL_Overtime) as TotalVarToGL_Overtime,\n           -SUM(TotalVarToGL_ICLogs) as TotalVarToGL_ICLogs,\n           -SUM(TotalVarToGL_Variable) as TotalVarToGL_Variable,\n           -SUM(TotalVarToGL_Fixed) as TotalVarToGL_Fixed,\n           -SUM(TotalVarToGL_LabourFixed) as TotalVarToGL_LabourFixed, \n           -SUM(TotalVarToGL_LabourVariable) as TotalVarToGL_LabourVariable\n    FROM mandj_reports.aws_invoices\n    WHERE InterCompany = 'N' \n          AND Month >= '2024-02-01' \n          AND `NOT-041-REV-NETSALES` IS NULL\n          AND (Level1 <> 'Tubs' OR Level1 IS NULL) \n          AND Product <> 'FREIGHT'\n    GROUP BY (DatabaseCode, Document, DocType, InvoiceDate, Week, Month, Customer, Name, BillTo, BillToName, MappingName, \n             PriceGroup, CreatedBy, Product, Description, UnitCode, Level1, Level2, Level3, Level4, Level5, Division, \n             Brand, MeatType, ChickenSize, Cut, Process, Bone, Skin, Portion, PortionSize, Crumb, Temp, PricePerKg, \n             SpecialPrice, BoneProduct, Channel, `NOT-041-REV-NETSALES`, CreditReason, ObsoleteFlag, CostType)\n': ('HY000', '[HY000] [MySQL][ODBC 5.3(a) Driver][mysqld-5.7.44-log]Operand should contain 1 column(s) (1241) (SQLExecDirectW)')",
     "output_type": "error",
     "traceback": [
      "\u001b[1;31m---------------------------------------------------------------------------\u001b[0m",
      "\u001b[1;31mError\u001b[0m                                     Traceback (most recent call last)",
      "File \u001b[1;32mc:\\Users\\Lee.Zheng\\AppData\\Local\\Programs\\Python\\Python313\\Lib\\site-packages\\pandas\\io\\sql.py:2674\u001b[0m, in \u001b[0;36mSQLiteDatabase.execute\u001b[1;34m(self, sql, params)\u001b[0m\n\u001b[0;32m   2673\u001b[0m \u001b[38;5;28;01mtry\u001b[39;00m:\n\u001b[1;32m-> 2674\u001b[0m     \u001b[43mcur\u001b[49m\u001b[38;5;241;43m.\u001b[39;49m\u001b[43mexecute\u001b[49m\u001b[43m(\u001b[49m\u001b[43msql\u001b[49m\u001b[43m,\u001b[49m\u001b[43m \u001b[49m\u001b[38;5;241;43m*\u001b[39;49m\u001b[43margs\u001b[49m\u001b[43m)\u001b[49m\n\u001b[0;32m   2675\u001b[0m     \u001b[38;5;28;01mreturn\u001b[39;00m cur\n",
      "\u001b[1;31mError\u001b[0m: ('HY000', '[HY000] [MySQL][ODBC 5.3(a) Driver][mysqld-5.7.44-log]Operand should contain 1 column(s) (1241) (SQLExecDirectW)')",
      "\nThe above exception was the direct cause of the following exception:\n",
      "\u001b[1;31mDatabaseError\u001b[0m                             Traceback (most recent call last)",
      "Cell \u001b[1;32mIn[3], line 64\u001b[0m\n\u001b[0;32m     17\u001b[0m query \u001b[38;5;241m=\u001b[39m \u001b[38;5;124m\"\"\"\u001b[39m\n\u001b[0;32m     18\u001b[0m \u001b[38;5;124m    SELECT DatabaseCode, Document, DocType, InvoiceDate, Week, Month, Customer, Name, BillTo, BillToName, MappingName, \u001b[39m\n\u001b[0;32m     19\u001b[0m \u001b[38;5;124m           PriceGroup, CreatedBy, Product, Description, UnitCode, Level1, Level2, Level3, Level4, Level5, Division, \u001b[39m\n\u001b[1;32m   (...)\u001b[0m\n\u001b[0;32m     60\u001b[0m \u001b[38;5;124m             SpecialPrice, BoneProduct, Channel, `NOT-041-REV-NETSALES`, CreditReason, ObsoleteFlag, CostType)\u001b[39m\n\u001b[0;32m     61\u001b[0m \u001b[38;5;124m\"\"\"\u001b[39m\n\u001b[0;32m     63\u001b[0m \u001b[38;5;66;03m# Load result into a DataFrame\u001b[39;00m\n\u001b[1;32m---> 64\u001b[0m invoice_df \u001b[38;5;241m=\u001b[39m \u001b[43mpd\u001b[49m\u001b[38;5;241;43m.\u001b[39;49m\u001b[43mread_sql_query\u001b[49m\u001b[43m(\u001b[49m\u001b[43mquery\u001b[49m\u001b[43m,\u001b[49m\u001b[43m \u001b[49m\u001b[43mconn\u001b[49m\u001b[43m)\u001b[49m\n\u001b[0;32m     66\u001b[0m \u001b[38;5;66;03m# Save DataFrame to an Excel file\u001b[39;00m\n\u001b[0;32m     67\u001b[0m invoice_df\u001b[38;5;241m.\u001b[39mto_excel(invoice_file, index\u001b[38;5;241m=\u001b[39m\u001b[38;5;28;01mFalse\u001b[39;00m)\n",
      "File \u001b[1;32mc:\\Users\\Lee.Zheng\\AppData\\Local\\Programs\\Python\\Python313\\Lib\\site-packages\\pandas\\io\\sql.py:526\u001b[0m, in \u001b[0;36mread_sql_query\u001b[1;34m(sql, con, index_col, coerce_float, params, parse_dates, chunksize, dtype, dtype_backend)\u001b[0m\n\u001b[0;32m    523\u001b[0m \u001b[38;5;28;01massert\u001b[39;00m dtype_backend \u001b[38;5;129;01mis\u001b[39;00m \u001b[38;5;129;01mnot\u001b[39;00m lib\u001b[38;5;241m.\u001b[39mno_default\n\u001b[0;32m    525\u001b[0m \u001b[38;5;28;01mwith\u001b[39;00m pandasSQL_builder(con) \u001b[38;5;28;01mas\u001b[39;00m pandas_sql:\n\u001b[1;32m--> 526\u001b[0m     \u001b[38;5;28;01mreturn\u001b[39;00m \u001b[43mpandas_sql\u001b[49m\u001b[38;5;241;43m.\u001b[39;49m\u001b[43mread_query\u001b[49m\u001b[43m(\u001b[49m\n\u001b[0;32m    527\u001b[0m \u001b[43m        \u001b[49m\u001b[43msql\u001b[49m\u001b[43m,\u001b[49m\n\u001b[0;32m    528\u001b[0m \u001b[43m        \u001b[49m\u001b[43mindex_col\u001b[49m\u001b[38;5;241;43m=\u001b[39;49m\u001b[43mindex_col\u001b[49m\u001b[43m,\u001b[49m\n\u001b[0;32m    529\u001b[0m \u001b[43m        \u001b[49m\u001b[43mparams\u001b[49m\u001b[38;5;241;43m=\u001b[39;49m\u001b[43mparams\u001b[49m\u001b[43m,\u001b[49m\n\u001b[0;32m    530\u001b[0m \u001b[43m        \u001b[49m\u001b[43mcoerce_float\u001b[49m\u001b[38;5;241;43m=\u001b[39;49m\u001b[43mcoerce_float\u001b[49m\u001b[43m,\u001b[49m\n\u001b[0;32m    531\u001b[0m \u001b[43m        \u001b[49m\u001b[43mparse_dates\u001b[49m\u001b[38;5;241;43m=\u001b[39;49m\u001b[43mparse_dates\u001b[49m\u001b[43m,\u001b[49m\n\u001b[0;32m    532\u001b[0m \u001b[43m        \u001b[49m\u001b[43mchunksize\u001b[49m\u001b[38;5;241;43m=\u001b[39;49m\u001b[43mchunksize\u001b[49m\u001b[43m,\u001b[49m\n\u001b[0;32m    533\u001b[0m \u001b[43m        \u001b[49m\u001b[43mdtype\u001b[49m\u001b[38;5;241;43m=\u001b[39;49m\u001b[43mdtype\u001b[49m\u001b[43m,\u001b[49m\n\u001b[0;32m    534\u001b[0m \u001b[43m        \u001b[49m\u001b[43mdtype_backend\u001b[49m\u001b[38;5;241;43m=\u001b[39;49m\u001b[43mdtype_backend\u001b[49m\u001b[43m,\u001b[49m\n\u001b[0;32m    535\u001b[0m \u001b[43m    \u001b[49m\u001b[43m)\u001b[49m\n",
      "File \u001b[1;32mc:\\Users\\Lee.Zheng\\AppData\\Local\\Programs\\Python\\Python313\\Lib\\site-packages\\pandas\\io\\sql.py:2738\u001b[0m, in \u001b[0;36mSQLiteDatabase.read_query\u001b[1;34m(self, sql, index_col, coerce_float, parse_dates, params, chunksize, dtype, dtype_backend)\u001b[0m\n\u001b[0;32m   2727\u001b[0m \u001b[38;5;28;01mdef\u001b[39;00m\u001b[38;5;250m \u001b[39m\u001b[38;5;21mread_query\u001b[39m(\n\u001b[0;32m   2728\u001b[0m     \u001b[38;5;28mself\u001b[39m,\n\u001b[0;32m   2729\u001b[0m     sql,\n\u001b[1;32m   (...)\u001b[0m\n\u001b[0;32m   2736\u001b[0m     dtype_backend: DtypeBackend \u001b[38;5;241m|\u001b[39m Literal[\u001b[38;5;124m\"\u001b[39m\u001b[38;5;124mnumpy\u001b[39m\u001b[38;5;124m\"\u001b[39m] \u001b[38;5;241m=\u001b[39m \u001b[38;5;124m\"\u001b[39m\u001b[38;5;124mnumpy\u001b[39m\u001b[38;5;124m\"\u001b[39m,\n\u001b[0;32m   2737\u001b[0m ) \u001b[38;5;241m-\u001b[39m\u001b[38;5;241m>\u001b[39m DataFrame \u001b[38;5;241m|\u001b[39m Iterator[DataFrame]:\n\u001b[1;32m-> 2738\u001b[0m     cursor \u001b[38;5;241m=\u001b[39m \u001b[38;5;28;43mself\u001b[39;49m\u001b[38;5;241;43m.\u001b[39;49m\u001b[43mexecute\u001b[49m\u001b[43m(\u001b[49m\u001b[43msql\u001b[49m\u001b[43m,\u001b[49m\u001b[43m \u001b[49m\u001b[43mparams\u001b[49m\u001b[43m)\u001b[49m\n\u001b[0;32m   2739\u001b[0m     columns \u001b[38;5;241m=\u001b[39m [col_desc[\u001b[38;5;241m0\u001b[39m] \u001b[38;5;28;01mfor\u001b[39;00m col_desc \u001b[38;5;129;01min\u001b[39;00m cursor\u001b[38;5;241m.\u001b[39mdescription]\n\u001b[0;32m   2741\u001b[0m     \u001b[38;5;28;01mif\u001b[39;00m chunksize \u001b[38;5;129;01mis\u001b[39;00m \u001b[38;5;129;01mnot\u001b[39;00m \u001b[38;5;28;01mNone\u001b[39;00m:\n",
      "File \u001b[1;32mc:\\Users\\Lee.Zheng\\AppData\\Local\\Programs\\Python\\Python313\\Lib\\site-packages\\pandas\\io\\sql.py:2686\u001b[0m, in \u001b[0;36mSQLiteDatabase.execute\u001b[1;34m(self, sql, params)\u001b[0m\n\u001b[0;32m   2683\u001b[0m     \u001b[38;5;28;01mraise\u001b[39;00m ex \u001b[38;5;28;01mfrom\u001b[39;00m\u001b[38;5;250m \u001b[39m\u001b[38;5;21;01minner_exc\u001b[39;00m\n\u001b[0;32m   2685\u001b[0m ex \u001b[38;5;241m=\u001b[39m DatabaseError(\u001b[38;5;124mf\u001b[39m\u001b[38;5;124m\"\u001b[39m\u001b[38;5;124mExecution failed on sql \u001b[39m\u001b[38;5;124m'\u001b[39m\u001b[38;5;132;01m{\u001b[39;00msql\u001b[38;5;132;01m}\u001b[39;00m\u001b[38;5;124m'\u001b[39m\u001b[38;5;124m: \u001b[39m\u001b[38;5;132;01m{\u001b[39;00mexc\u001b[38;5;132;01m}\u001b[39;00m\u001b[38;5;124m\"\u001b[39m)\n\u001b[1;32m-> 2686\u001b[0m \u001b[38;5;28;01mraise\u001b[39;00m ex \u001b[38;5;28;01mfrom\u001b[39;00m\u001b[38;5;250m \u001b[39m\u001b[38;5;21;01mexc\u001b[39;00m\n",
      "\u001b[1;31mDatabaseError\u001b[0m: Execution failed on sql '\n    SELECT DatabaseCode, Document, DocType, InvoiceDate, Week, Month, Customer, Name, BillTo, BillToName, MappingName, \n           PriceGroup, CreatedBy, Product, Description, UnitCode, Level1, Level2, Level3, Level4, Level5, Division, \n           Brand, MeatType, ChickenSize, Cut, Process, Bone, Skin, Portion, PortionSize, Crumb, Temp, PricePerKg, \n           SpecialPrice, BoneProduct, Channel, `NOT-041-REV-NETSALES`, CreditReason, ObsoleteFlag, CostType, CustPo,\n           SUM(TotalSale) as GSV, \n           SUM(InvoiceQty) as InvoiceQty,\n           -SUM(TotalRebate) as TotalRebate, \n           SUM(TotalKG) as TotalKG, \n           -SUM(MAF) as MAF, \n           -SUM(GLVarRebate) as GLVarRebate, \n           -SUM(TotalPoultry) as TotalPoultry, \n           -SUM(TotalFixed) as TotalFixed,\n           -SUM(TotalFixedCosts) as TotalFixedCosts,\n           -SUM(TotalRawOther) as TotalRawOther, \n           -SUM(TotalPackaging) as TotalPackaging, \n           -SUM(TotalLabour) as TotalLabour, \n           -SUM(TotalOvertime) as TotalOvertime, \n           -SUM(TotalVariable) as TotalVariable, \n           -SUM(TotalICLogs) as TotalIClogs, \n           -SUM(Freight) as TotalFreight, \n           -SUM(Delivery) as TotalDelivery, \n           -SUM(TotalLabourFixed) as TotalLabourFixed, \n           -SUM(TotalLabourVariable) as TotalLabourVariable, \n           -SUM(TotalVarToGL_Poultry) as TotalVarToGL_Poultry, \n           -SUM(TotalVarToGL_RawOther) as TotalVarToGL_RawOther, \n           -SUM(TotalVarToGL_Packaging) as TotalVarToGL_Packaging, \n           -SUM(TotalVarToGL_Labour) as TotalVarToGL_Labour, \n           -SUM(TotalVarToGL_Overtime) as TotalVarToGL_Overtime,\n           -SUM(TotalVarToGL_ICLogs) as TotalVarToGL_ICLogs,\n           -SUM(TotalVarToGL_Variable) as TotalVarToGL_Variable,\n           -SUM(TotalVarToGL_Fixed) as TotalVarToGL_Fixed,\n           -SUM(TotalVarToGL_LabourFixed) as TotalVarToGL_LabourFixed, \n           -SUM(TotalVarToGL_LabourVariable) as TotalVarToGL_LabourVariable\n    FROM mandj_reports.aws_invoices\n    WHERE InterCompany = 'N' \n          AND Month >= '2024-02-01' \n          AND `NOT-041-REV-NETSALES` IS NULL\n          AND (Level1 <> 'Tubs' OR Level1 IS NULL) \n          AND Product <> 'FREIGHT'\n    GROUP BY (DatabaseCode, Document, DocType, InvoiceDate, Week, Month, Customer, Name, BillTo, BillToName, MappingName, \n             PriceGroup, CreatedBy, Product, Description, UnitCode, Level1, Level2, Level3, Level4, Level5, Division, \n             Brand, MeatType, ChickenSize, Cut, Process, Bone, Skin, Portion, PortionSize, Crumb, Temp, PricePerKg, \n             SpecialPrice, BoneProduct, Channel, `NOT-041-REV-NETSALES`, CreditReason, ObsoleteFlag, CostType)\n': ('HY000', '[HY000] [MySQL][ODBC 5.3(a) Driver][mysqld-5.7.44-log]Operand should contain 1 column(s) (1241) (SQLExecDirectW)')"
     ]
    }
   ],
   "source": [
    "import pyodbc\n",
    "import pandas as pd\n",
    "\n",
    "# Establish the database connection\n",
    "conn = pyodbc.connect(\n",
    "    \"DRIVER={MySQL ODBC 5.3 ANSI Driver};\"\n",
    "    \"SERVER=mandj-db-3.mandjchickens.local;\"\n",
    "    \"DATABASE=mandj_reports;\"\n",
    "    \"UID=mandj_reports_ro;\"\n",
    "    \"PWD=Rhaps0dy;\"\n",
    ")\n",
    "\n",
    "# Define the file path for the output\n",
    "invoice_file = r\"C:\\Users\\Lee.Zheng\\Desktop\\AWS_Invoice.xlsx\"\n",
    "\n",
    "# Define and execute the corrected SQL query\n",
    "query = \"\"\"\n",
    "    SELECT DatabaseCode, Document, DocType, InvoiceDate, Week, Month, Customer, Name, BillTo, BillToName, MappingName, \n",
    "           PriceGroup, CreatedBy, Product, Description, UnitCode, Level1, Level2, Level3, Level4, Level5, Division, \n",
    "           Brand, MeatType, ChickenSize, Cut, Process, Bone, Skin, Portion, PortionSize, Crumb, Temp, PricePerKg, \n",
    "           SpecialPrice, BoneProduct, Channel, `NOT-041-REV-NETSALES`, CreditReason, ObsoleteFlag, CostType, CustPo,\n",
    "           SUM(TotalSale) as GSV, \n",
    "           SUM(InvoiceQty) as InvoiceQty,\n",
    "           -SUM(TotalRebate) as TotalRebate, \n",
    "           SUM(TotalKG) as TotalKG, \n",
    "           -SUM(MAF) as MAF, \n",
    "           -SUM(GLVarRebate) as GLVarRebate, \n",
    "           -SUM(TotalPoultry) as TotalPoultry, \n",
    "           -SUM(TotalFixed) as TotalFixed,\n",
    "           -SUM(TotalFixedCosts) as TotalFixedCosts,\n",
    "           -SUM(TotalRawOther) as TotalRawOther, \n",
    "           -SUM(TotalPackaging) as TotalPackaging, \n",
    "           -SUM(TotalLabour) as TotalLabour, \n",
    "           -SUM(TotalOvertime) as TotalOvertime, \n",
    "           -SUM(TotalVariable) as TotalVariable, \n",
    "           -SUM(TotalICLogs) as TotalIClogs, \n",
    "           -SUM(Freight) as TotalFreight, \n",
    "           -SUM(Delivery) as TotalDelivery, \n",
    "           -SUM(TotalLabourFixed) as TotalLabourFixed, \n",
    "           -SUM(TotalLabourVariable) as TotalLabourVariable, \n",
    "           -SUM(TotalVarToGL_Poultry) as TotalVarToGL_Poultry, \n",
    "           -SUM(TotalVarToGL_RawOther) as TotalVarToGL_RawOther, \n",
    "           -SUM(TotalVarToGL_Packaging) as TotalVarToGL_Packaging, \n",
    "           -SUM(TotalVarToGL_Labour) as TotalVarToGL_Labour, \n",
    "           -SUM(TotalVarToGL_Overtime) as TotalVarToGL_Overtime,\n",
    "           -SUM(TotalVarToGL_ICLogs) as TotalVarToGL_ICLogs,\n",
    "           -SUM(TotalVarToGL_Variable) as TotalVarToGL_Variable,\n",
    "           -SUM(TotalVarToGL_Fixed) as TotalVarToGL_Fixed,\n",
    "           -SUM(TotalVarToGL_LabourFixed) as TotalVarToGL_LabourFixed, \n",
    "           -SUM(TotalVarToGL_LabourVariable) as TotalVarToGL_LabourVariable\n",
    "    FROM mandj_reports.aws_invoices\n",
    "    WHERE InterCompany = 'N' \n",
    "          AND Month >= '2024-02-01' \n",
    "          AND `NOT-041-REV-NETSALES` IS NULL\n",
    "          AND (Level1 <> 'Tubs' OR Level1 IS NULL) \n",
    "          AND Product <> 'FREIGHT'\n",
    "    GROUP BY (DatabaseCode, Document, DocType, InvoiceDate, Week, Month, Customer, Name, BillTo, BillToName, MappingName, \n",
    "             PriceGroup, CreatedBy, Product, Description, UnitCode, Level1, Level2, Level3, Level4, Level5, Division, \n",
    "             Brand, MeatType, ChickenSize, Cut, Process, Bone, Skin, Portion, PortionSize, Crumb, Temp, PricePerKg, \n",
    "             SpecialPrice, BoneProduct, Channel, `NOT-041-REV-NETSALES`, CreditReason, ObsoleteFlag, CostType)\n",
    "\"\"\"\n",
    "\n",
    "# Load result into a DataFrame\n",
    "invoice_df = pd.read_sql_query(query, conn)\n",
    "\n",
    "# Save DataFrame to an Excel file\n",
    "invoice_df.to_excel(invoice_file, index=False)\n",
    "\n",
    "# Close the database connection\n",
    "conn.close()"
   ]
  }
 ],
 "metadata": {
  "kernelspec": {
   "display_name": "Python 3",
   "language": "python",
   "name": "python3"
  },
  "language_info": {
   "codemirror_mode": {
    "name": "ipython",
    "version": 3
   },
   "file_extension": ".py",
   "mimetype": "text/x-python",
   "name": "python",
   "nbconvert_exporter": "python",
   "pygments_lexer": "ipython3",
   "version": "3.13.2"
  }
 },
 "nbformat": 4,
 "nbformat_minor": 2
}
